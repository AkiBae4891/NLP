{
  "nbformat": 4,
  "nbformat_minor": 0,
  "metadata": {
    "colab": {
      "name": "Review_NLP_Colab.ipynb",
      "provenance": [],
      "collapsed_sections": []
    },
    "kernelspec": {
      "name": "python3",
      "display_name": "Python 3"
    }
  },
  "cells": [
    {
      "cell_type": "code",
      "metadata": {
        "id": "2psowT5FjPJz",
        "colab_type": "code",
        "colab": {}
      },
      "source": [
        "# Tokenizing function \n",
        "def tokenize(text):\n",
        "    \"\"\"Parses a string into a list of semantic units (words)\n",
        "\n",
        "    Args:\n",
        "        text (str): The string that the function will tokenize.\n",
        "\n",
        "    Returns:\n",
        "        list: tokens parsed out by the mechanics of your choice\n",
        "    \"\"\"\n",
        "    \n",
        "    tokens = re.sub(r'[^a-zA-Z ^0-9]', '', text)\n",
        "    tokens = tokens.lower().split()\n",
        "    \n",
        "    return tokens"
      ],
      "execution_count": 0,
      "outputs": []
    },
    {
      "cell_type": "code",
      "metadata": {
        "id": "XFlXNnJwjpJQ",
        "colab_type": "code",
        "colab": {
          "base_uri": "https://localhost:8080/",
          "height": 34
        },
        "outputId": "e9d6e929-3a4b-48fd-e680-f98a36d2a527"
      },
      "source": [
        "!pip install squarify"
      ],
      "execution_count": 2,
      "outputs": [
        {
          "output_type": "stream",
          "text": [
            "Requirement already satisfied: squarify in /usr/local/lib/python3.6/dist-packages (0.4.3)\n"
          ],
          "name": "stdout"
        }
      ]
    },
    {
      "cell_type": "code",
      "metadata": {
        "id": "Dx3dO5yajpR7",
        "colab_type": "code",
        "colab": {
          "base_uri": "https://localhost:8080/",
          "height": 51
        },
        "outputId": "f5991b66-630b-425e-dccb-88a9fd0c2ff6"
      },
      "source": [
        "!pip install nltk"
      ],
      "execution_count": 3,
      "outputs": [
        {
          "output_type": "stream",
          "text": [
            "Requirement already satisfied: nltk in /usr/local/lib/python3.6/dist-packages (3.2.5)\n",
            "Requirement already satisfied: six in /usr/local/lib/python3.6/dist-packages (from nltk) (1.12.0)\n"
          ],
          "name": "stdout"
        }
      ]
    },
    {
      "cell_type": "code",
      "metadata": {
        "id": "39nLvarHjdxq",
        "colab_type": "code",
        "colab": {}
      },
      "source": [
        "\"\"\"\n",
        "Import Statements\n",
        "\"\"\"\n",
        "\n",
        "# Base\n",
        "from collections import Counter\n",
        "import re\n",
        " \n",
        "import pandas as pd\n",
        "\n",
        "# Plotting\n",
        "import squarify\n",
        "import matplotlib.pyplot as plt\n",
        "import seaborn as sns\n",
        "\n",
        "# NLP Libraries\n",
        "import spacy.cli\n",
        "from spacy.tokenizer import Tokenizer\n",
        "from nltk.stem import PorterStemmer"
      ],
      "execution_count": 0,
      "outputs": []
    },
    {
      "cell_type": "code",
      "metadata": {
        "id": "csaKguRTjd9u",
        "colab_type": "code",
        "colab": {
          "base_uri": "https://localhost:8080/",
          "height": 241
        },
        "outputId": "b554f8f3-e4ba-4723-aa9b-8cce3b452a8b"
      },
      "source": [
        "# using colab we must download the package first \n",
        "!python -m spacy download en_core_web_lg"
      ],
      "execution_count": 6,
      "outputs": [
        {
          "output_type": "stream",
          "text": [
            "Collecting en_core_web_lg==2.1.0\n",
            "\u001b[?25l  Downloading https://github.com/explosion/spacy-models/releases/download/en_core_web_lg-2.1.0/en_core_web_lg-2.1.0.tar.gz (826.9MB)\n",
            "\u001b[K     |████████████████████████████████| 826.9MB 1.1MB/s \n",
            "\u001b[?25hBuilding wheels for collected packages: en-core-web-lg\n",
            "  Building wheel for en-core-web-lg (setup.py) ... \u001b[?25l\u001b[?25hdone\n",
            "  Created wheel for en-core-web-lg: filename=en_core_web_lg-2.1.0-cp36-none-any.whl size=828255076 sha256=968a5e3279e0860b702a3afac2db691c33529634ba316a8379e69d39be3bc70f\n",
            "  Stored in directory: /tmp/pip-ephem-wheel-cache-dcgy5j36/wheels/b4/d7/70/426d313a459f82ed5e06cc36a50e2bb2f0ec5cb31d8e0bdf09\n",
            "Successfully built en-core-web-lg\n",
            "Installing collected packages: en-core-web-lg\n",
            "Successfully installed en-core-web-lg-2.1.0\n",
            "\u001b[38;5;2m✔ Download and installation successful\u001b[0m\n",
            "You can now load the model via spacy.load('en_core_web_lg')\n"
          ],
          "name": "stdout"
        }
      ]
    },
    {
      "cell_type": "markdown",
      "metadata": {
        "id": "GG8jEVrPmfWz",
        "colab_type": "text"
      },
      "source": [
        "Have to restart Runtime after downloading "
      ]
    },
    {
      "cell_type": "code",
      "metadata": {
        "id": "xFWFEZRslC5g",
        "colab_type": "code",
        "colab": {}
      },
      "source": [
        "import spacy\n",
        "nlp = spacy.load('en_core_web_lg')"
      ],
      "execution_count": 0,
      "outputs": []
    },
    {
      "cell_type": "code",
      "metadata": {
        "id": "1nqTAN6Vmloj",
        "colab_type": "code",
        "colab": {}
      },
      "source": [
        "df = pd.read_parquet('review.parquet')"
      ],
      "execution_count": 0,
      "outputs": []
    },
    {
      "cell_type": "code",
      "metadata": {
        "id": "s3JoDTf8nttJ",
        "colab_type": "code",
        "colab": {
          "base_uri": "https://localhost:8080/",
          "height": 289
        },
        "outputId": "127132f8-f8aa-4ae4-fa2e-bd26fe2383a2"
      },
      "source": [
        "df.head()"
      ],
      "execution_count": 7,
      "outputs": [
        {
          "output_type": "execute_result",
          "data": {
            "text/html": [
              "<div>\n",
              "<style scoped>\n",
              "    .dataframe tbody tr th:only-of-type {\n",
              "        vertical-align: middle;\n",
              "    }\n",
              "\n",
              "    .dataframe tbody tr th {\n",
              "        vertical-align: top;\n",
              "    }\n",
              "\n",
              "    .dataframe thead th {\n",
              "        text-align: right;\n",
              "    }\n",
              "</style>\n",
              "<table border=\"1\" class=\"dataframe\">\n",
              "  <thead>\n",
              "    <tr style=\"text-align: right;\">\n",
              "      <th></th>\n",
              "      <th>review_id</th>\n",
              "      <th>user_id</th>\n",
              "      <th>business_id</th>\n",
              "      <th>stars</th>\n",
              "      <th>useful</th>\n",
              "      <th>funny</th>\n",
              "      <th>cool</th>\n",
              "      <th>text</th>\n",
              "      <th>date</th>\n",
              "    </tr>\n",
              "  </thead>\n",
              "  <tbody>\n",
              "    <tr>\n",
              "      <th>609090</th>\n",
              "      <td>IfFo03nj-PQGTzTdxH8vWA</td>\n",
              "      <td>SxrGc9Qv8b_DWo6DZOeyng</td>\n",
              "      <td>FvVSy2r7_zDEhZWqLgjXNQ</td>\n",
              "      <td>3</td>\n",
              "      <td>0</td>\n",
              "      <td>2</td>\n",
              "      <td>0</td>\n",
              "      <td>The food was great no denying that. I'm trying...</td>\n",
              "      <td>2012-12-02 20:46:30</td>\n",
              "    </tr>\n",
              "    <tr>\n",
              "      <th>6460377</th>\n",
              "      <td>L46X3SlvO88xtlusGr1hFg</td>\n",
              "      <td>HOzgd-a-kAiVZappPn5yGA</td>\n",
              "      <td>ERfGoZcgrmF8p89FIs9_TA</td>\n",
              "      <td>5</td>\n",
              "      <td>2</td>\n",
              "      <td>0</td>\n",
              "      <td>1</td>\n",
              "      <td>Delivered as promised, when promised!\\n Excell...</td>\n",
              "      <td>2015-01-11 18:53:04</td>\n",
              "    </tr>\n",
              "    <tr>\n",
              "      <th>562100</th>\n",
              "      <td>EcxvP_LcXS2MGgxvNXwCwg</td>\n",
              "      <td>hmqaQ_60rCJi86ur1kYg8g</td>\n",
              "      <td>m65oi2C7b1CJM7DaXbFi-g</td>\n",
              "      <td>5</td>\n",
              "      <td>2</td>\n",
              "      <td>1</td>\n",
              "      <td>1</td>\n",
              "      <td>Came by again with a friend just to hang out. ...</td>\n",
              "      <td>2018-01-06 06:53:10</td>\n",
              "    </tr>\n",
              "    <tr>\n",
              "      <th>5339718</th>\n",
              "      <td>a1q77QOPmEJK75FgdfEjDA</td>\n",
              "      <td>qAeiX_1IOEjr56QjRjaBxA</td>\n",
              "      <td>RV__lDpb_Vo4SmSL2r5ezA</td>\n",
              "      <td>5</td>\n",
              "      <td>0</td>\n",
              "      <td>1</td>\n",
              "      <td>1</td>\n",
              "      <td>I called Real Fast Auto Glass to get the winds...</td>\n",
              "      <td>2015-05-12 15:25:27</td>\n",
              "    </tr>\n",
              "    <tr>\n",
              "      <th>2958710</th>\n",
              "      <td>gsPiT4oi6rdj9MZt8rfm7w</td>\n",
              "      <td>pFfZdrY_EbDlTxEwKbZl3A</td>\n",
              "      <td>YCoLBgh973QSp-OmnwMWSg</td>\n",
              "      <td>2</td>\n",
              "      <td>2</td>\n",
              "      <td>2</td>\n",
              "      <td>1</td>\n",
              "      <td>Terrible shuttle service, pretty good service ...</td>\n",
              "      <td>2011-07-13 14:11:37</td>\n",
              "    </tr>\n",
              "  </tbody>\n",
              "</table>\n",
              "</div>"
            ],
            "text/plain": [
              "                      review_id  ...                date\n",
              "609090   IfFo03nj-PQGTzTdxH8vWA  ... 2012-12-02 20:46:30\n",
              "6460377  L46X3SlvO88xtlusGr1hFg  ... 2015-01-11 18:53:04\n",
              "562100   EcxvP_LcXS2MGgxvNXwCwg  ... 2018-01-06 06:53:10\n",
              "5339718  a1q77QOPmEJK75FgdfEjDA  ... 2015-05-12 15:25:27\n",
              "2958710  gsPiT4oi6rdj9MZt8rfm7w  ... 2011-07-13 14:11:37\n",
              "\n",
              "[5 rows x 9 columns]"
            ]
          },
          "metadata": {
            "tags": []
          },
          "execution_count": 7
        }
      ]
    },
    {
      "cell_type": "code",
      "metadata": {
        "id": "LeAUBjIgn82n",
        "colab_type": "code",
        "colab": {
          "base_uri": "https://localhost:8080/",
          "height": 904
        },
        "outputId": "2bfd1570-a864-4575-e993-477aaa49a6d0"
      },
      "source": [
        "# Count the raw text\n",
        "df['text'].value_counts(normalize=True)[:50]"
      ],
      "execution_count": 8,
      "outputs": [
        {
          "output_type": "execute_result",
          "data": {
            "text/plain": [
              "Baja chimi... yum!!!                                                                                                                                                                                                                                                                                                                                                                                                                                                                                                                                                                                                                                                                                                                                                                                                                                                                                                                                                                                                                                                                                                                                                                                                                                                                                                                                                                                                                                                                                                                                                                                                                                                                                                                                                                                                                                                                                                                                                                                                                                                                                                                                                                                                                                                                                                                                                                                                                                                                                                                                                                                                                                                                                                                                                                                                                                                                                                                                                                                                                                                                                                                                                                                                                                                                                                                                                                                                                                                                                                                                                                                                                                                                                                                                                                                                                                                                                                                                                                                                                                                                                                                                                                                                                                                                                                                                                                                                                                                                                                                                                                                                                                                                                                                                                                                                                                                                                                                                                                                                                                                                                                                                                                                                      0.000037\n",
              "The best Chile Verde I've ever had! Very kid friendly (kids under 10 eat for free). We got multiple plates to share and try different flavors. Iron Skillet Pancake, Roasted Fingerling Potatoes, Meat Flatbread, Fresh Baked Baguette with jam and butter, and of course the Pork Chile Verde.  Go, eat, enjoy.                                                                                                                                                                                                                                                                                                                                                                                                                                                                                                                                                                                                                                                                                                                                                                                                                                                                                                                                                                                                                                                                                                                                                                                                                                                                                                                                                                                                                                                                                                                                                                                                                                                                                                                                                                                                                                                                                                                                                                                                                                                                                                                                                                                                                                                                                                                                                                                                                                                                                                                                                                                                                                                                                                                                                                                                                                                                                                                                                                                                                                                                                                                                                                                                                                                                                                                                                                                                                                                                                                                                                                                                                                                                                                                                                                                                                                                                                                                                                                                                                                                                                                                                                                                                                                                                                                                                                                                                                                                                                                                                                                                                                                                                                                                                                                                                                                                                                                          0.000037\n",
              "If you are going to Table 34 for top notch food then you will be disappointed.  The food was just average and a little pricy for lunch.\\n\\nIf you are going to Table 34 for top quality wait staff, then stay away from this place.  Or, at least until they get rid of the surly, female waitress we had.\\n\\nWe were a group of 7 people and when we arrived at the restaurant on a Thursday at 1pm and the restaurant was fairly full.  By the time we were ready to order, the restaurant was nearly empty.\\n\\nSodas were flat and they had to be replaced.  One guest who arrived late had to wait 20 minutes for a glass of water to arrive.\\n\\nThe Waitress never checked on us after the meals were served.\\n\\nThe Waitress never followed up after the meal to see if we wanted coffee or dessert.\\n\\nOne guest requested mustard for his sandwich.  That arrived after his meal was finished.\\n\\nAt the end of the meal it became obvious that all of us were disenchanted with the wait service so we spoke to the Manager about the situation.  The Manager was defensive and never once apologized for the service.  The Waitress overheard our complaints and thought it was her place to step in and argue & defend her surly attitude with 7 customers and then huffed off.\\n\\nThe restaurant needs to get rid of the Manager and the Waitress if they want people to return to this restaurant.\\n\\nIt should be noted that this company does not have a website.  And, their restaurant is off the beaten path in an office park, thereby making it difficult to find.\\n\\nNone of us will be returning to this restaurant.                                                                                                                                                                                                                                                                                                                                                                                                                                                                                                                                                                                                                                                                                                                                                                                                                                                                                                                                                                                                                                                                                                                                                                                                                                                                                                                                                                                                                                                                                                                                                                                                                                                                                                                                                                                                                                                                                                                                                                                                                                                                                                                                                                                                                                                                                                                                                                                                                                                                                                                                                                                                                                                                                                                                                                                                                                                                                                                                                                                                                                                                                                                                                                                                                                                                                                                                                                                                                                                                                                                                                                                0.000037\n",
              "I went to see Metallica Through the Never in 3D.  The sound and picture quality were amazing.   The 3D glasses provided were sleak and not nearly as cumbersome as I remember them being in the past.\\n\\nThe staff was helpful and the theater was extremely clean.  What else can you ask for?  Two thumbs up!                                                                                                                                                                                                                                                                                                                                                                                                                                                                                                                                                                                                                                                                                                                                                                                                                                                                                                                                                                                                                                                                                                                                                                                                                                                                                                                                                                                                                                                                                                                                                                                                                                                                                                                                                                                                                                                                                                                                                                                                                                                                                                                                                                                                                                                                                                                                                                                                                                                                                                                                                                                                                                                                                                                                                                                                                                                                                                                                                                                                                                                                                                                                                                                                                                                                                                                                                                                                                                                                                                                                                                                                                                                                                                                                                                                                                                                                                                                                                                                                                                                                                                                                                                                                                                                                                                                                                                                                                                                                                                                                                                                                                                                                                                                                                                                                                                                                                                           0.000037\n",
              "Portions are VERY small and overpriced. The waiters are rude and always give you a time limit even when you have reservations (30 mins or an 1 hour to eat and get out). Yet the expect a super high tip. The machine automatically offers a 22% tip to this garbage restaurant. Uhhh, no thanks pal! Skip it and go to the Thai restaurant down the street.                                                                                                                                                                                                                                                                                                                                                                                                                                                                                                                                                                                                                                                                                                                                                                                                                                                                                                                                                                                                                                                                                                                                                                                                                                                                                                                                                                                                                                                                                                                                                                                                                                                                                                                                                                                                                                                                                                                                                                                                                                                                                                                                                                                                                                                                                                                                                                                                                                                                                                                                                                                                                                                                                                                                                                                                                                                                                                                                                                                                                                                                                                                                                                                                                                                                                                                                                                                                                                                                                                                                                                                                                                                                                                                                                                                                                                                                                                                                                                                                                                                                                                                                                                                                                                                                                                                                                                                                                                                                                                                                                                                                                                                                                                                                                                                                                                                              0.000037\n",
              "My fiancé and I have been to both locations and it's very cool atmosphere at both. We are huge IPA fans but every time we go here I try beers I usually wouldn't and they are wonderful! Very different but one of my top 5 breweries in Pittsburgh!!! Food at Taste House was really delicious and food truck at brewery we had a bbq sandwich and chips that were delicious!!! We will be back to both!                                                                                                                                                                                                                                                                                                                                                                                                                                                                                                                                                                                                                                                                                                                                                                                                                                                                                                                                                                                                                                                                                                                                                                                                                                                                                                                                                                                                                                                                                                                                                                                                                                                                                                                                                                                                                                                                                                                                                                                                                                                                                                                                                                                                                                                                                                                                                                                                                                                                                                                                                                                                                                                                                                                                                                                                                                                                                                                                                                                                                                                                                                                                                                                                                                                                                                                                                                                                                                                                                                                                                                                                                                                                                                                                                                                                                                                                                                                                                                                                                                                                                                                                                                                                                                                                                                                                                                                                                                                                                                                                                                                                                                                                                                                                                                                                                 0.000037\n",
              "Landwer's Famous Ice Tea had mixed berries, fresh fruit, and passion fruit brew.  It was a beautiful coloured drink that tasting very refreshing too.  My mom really enjoyed it.\\n\\nThe Health Smoothie that I ordered contained banana, date, pistachios, tahini, date syrup, and soy milk.  This was an absolutely delicious smoothie!!  It was so smooth and creamy and the tastes of all the ingredients combined together were absolutely the best thing I've ever had!  The taste of the pistachios wasn't too strong either which I enjoyed.  Mmm, so yummy!\\n\\nI had heard about their Crispy Cauliflower appetizer (or I was definitely curious about it) and ordered it.  I was prepared to pay for this on its own since I knew that the prize didn't cover it.  The Crispy Cauliflower dish was all right.  It was served on a bed of tomato salsa and tahini.  I thought that the cauliflower bites could have been more crispy and more flavourful.  However, for those who like blander foods, I think this was a very decent dish.\\n\\nFor one of the entrées, we had the Free-Range Chicken & Pesto pasta.  Their pastas were fresh and made from 100% durum flour and homemade upon order.  There was a choice between campanelle or fettuccine.  I chose the campanelle (a type of pasta which is shaped like a cone with a ruffled edge) since it was unfamiliar to me.  The dish itself had broccoli, mushrooms, and tomatoes in pesto sauce with parmesan and grilled chicken.\\n\\nWhen it arrived, it was a beautifully presented dish!  I was in awe of it and took many photos.  Its taste was also very good!  The ingredients were so fresh and I adored how the grilled chicken wasn't rough or overcooked at all.  This was a great dish to order!  Even our neighbouring table asked me about it since they were impressed by its presentation too!  They ended up ordering it as well. \\n\\nThe second entrée we ordered was the Kebab Sinia Pan which had mini beef kebabs, charbroiled eggplant, tomato, red onion, tahini, chickpeas, chickpeas, and parsley on a hot stone-oven baked focaccia with a chopped salad.  This was also a very nicely presented dish that was more than enough for one person!  I'm glad that we shared everything.  The chopped salad of tomatoes and cucumbers was very fresh.  The mini beef kebabs were good and we enjoyed it.\\n\\nLastly, it was time for dessert!  The Rozalach and their Legendary Crumbled Cheesecake caught my attention.  The Rozalach was crispy dough baked in a stone oven with a rich filling of chocolate hazelnut.  This was definitely one of the most unique desserts I've had and I was so glad that I got to try it!  They were little cute doughs that were filled with chocolate hazelnut.  You definitely have to eat this fresh and hot out of the oven when the chocolate hazelnut filling is all melted.  I loved this! \\n\\nThe Legendary Crumbled Cheesecake had rich cheese and cookie crumbs served with homemade whipped cream.  The presentation of this was very nice too.  The homemade whipped cream was extremely airy and light!  It was so good!  The cookie crumbs on the bottom of the crumbled cheesecake made it a one characteristic one.\\n\\nWe weren't able to finish everything -- it was a lot of food -- so we packed up the rest of the two entrées and the Rozalach to enjoy at home.                                                                                                                                                                                                                                                                                                                                                                                                                                                                                                                                                                                                                                                                                                                                                                                                                                                                                                                                                                                                                                                                                                                                                                                                                                                                                                                                                                                                                                                                                                                                                                                                                                                                                                                                                                                                         0.000037\n",
              "I went here with a few co-workers during our business trip. It was pretty good! The deviled eggs and  pretzel were awesome, while the fried cheese curds were pretty average and my mussels were good.  The atmosphere of the people is great though. The natural light from the windows and the great view of the capital building makes this place a great place to go. I was really disappointed at how long it took for our food to come out though. Each appetizer had at least a ten minute wait time between them and we ordered 3 different ones! We were at the restaurant for so long! Nothing too special about this place, but my co-workers and I all enjoyed our meals!                                                                                                                                                                                                                                                                                                                                                                                                                                                                                                                                                                                                                                                                                                                                                                                                                                                                                                                                                                                                                                                                                                                                                                                                                                                                                                                                                                                                                                                                                                                                                                                                                                                                                                                                                                                                                                                                                                                                                                                                                                                                                                                                                                                                                                                                                                                                                                                                                                                                                                                                                                                                                                                                                                                                                                                                                                                                                                                                                                                                                                                                                                                                                                                                                                                                                                                                                                                                                                                                                                                                                                                                                                                                                                                                                                                                                                                                                                                                                                                                                                                                                                                                                                                                                                                                                                                                                                                                                                                                                                                                     0.000037\n",
              "This place is great. Very welcoming. The customer service is great and your able to have a big party enjoy your time. The place have great food and have a diversity of selections of food and alcohol. This place is great for having small or big group things this place is great venue for you celebrating with friends. The song selections are up to date and the setting is great and very aesthetic . Seong and Jay were great servers. And always on point . They were taking care me and my party the whole night. 10/10 this place is def a great place to spend time with friends.                                                                                                                                                                                                                                                                                                                                                                                                                                                                                                                                                                                                                                                                                                                                                                                                                                                                                                                                                                                                                                                                                                                                                                                                                                                                                                                                                                                                                                                                                                                                                                                                                                                                                                                                                                                                                                                                                                                                                                                                                                                                                                                                                                                                                                                                                                                                                                                                                                                                                                                                                                                                                                                                                                                                                                                                                                                                                                                                                                                                                                                                                                                                                                                                                                                                                                                                                                                                                                                                                                                                                                                                                                                                                                                                                                                                                                                                                                                                                                                                                                                                                                                                                                                                                                                                                                                                                                                                                                                                                                                                                                                                                            0.000037\n",
              "I have been using Arizona Organic for at least 10 years through multiple moves and have always been happy with their service. It's comforting to know that the spray Dan uses won't harm my family, including our dog. When I previously used toxic chemicals, I was always worried about the kids going out to play in the yard and wouldn't have been able to let the dog have free run. Dan comes whether I'm home or not, is great with my dog, and I have no fear that my dog will be hurt by what he sprays. As others have mentioned, he answers my texts quickly and is very responsive to any questions. In a previous house, I found I had termites and Shawn was also very responsive to my questions, came back when I needed him to, and seemed very knowledgeable when I found weird bugs. I would highly recommend this company.                                                                                                                                                                                                                                                                                                                                                                                                                                                                                                                                                                                                                                                                                                                                                                                                                                                                                                                                                                                                                                                                                                                                                                                                                                                                                                                                                                                                                                                                                                                                                                                                                                                                                                                                                                                                                                                                                                                                                                                                                                                                                                                                                                                                                                                                                                                                                                                                                                                                                                                                                                                                                                                                                                                                                                                                                                                                                                                                                                                                                                                                                                                                                                                                                                                                                                                                                                                                                                                                                                                                                                                                                                                                                                                                                                                                                                                                                                                                                                                                                                                                                                                                                                                                                                                                                                                                                                           0.000037\n",
              "So a burrito and a wok chock full o' stir fry had a love child and out came this interesting fusion joint.  Don't expect nice furniture or top notch décor, it's a dive... but the food is so good it's endearing.  And if I remember right, they give you a fresh snickerdoodle cookie with every meal, win-win.\\n\\nI haven't had a combo here I did not like, and the rice & beans they serve with whatever concoction you can imagine are really tasty.  I remember seeing the DDD episode of this before I ever moved to AZ and then once the east valley location closed down I just had a hard time making it out.\\n\\nI'm glad I did and a few times a year I come back cause I'm craving random combinations like those they offer here.  The service is always friendly and the prices are more than reasonable for the amount of food you get.  Totally worth your time!!                                                                                                                                                                                                                                                                                                                                                                                                                                                                                                                                                                                                                                                                                                                                                                                                                                                                                                                                                                                                                                                                                                                                                                                                                                                                                                                                                                                                                                                                                                                                                                                                                                                                                                                                                                                                                                                                                                                                                                                                                                                                                                                                                                                                                                                                                                                                                                                                                                                                                                                                                                                                                                                                                                                                                                                                                                                                                                                                                                                                                                                                                                                                                                                                                                                                                                                                                                                                                                                                                                                                                                                                                                                                                                                                                                                                                                                                                                                                                                                                                                                                                                                                                                                                                                                                                                                                        0.000037\n",
              "Loved this place while I was at school in Pittsburgh. Definitely would pick the Oakland location over the Squirrel Hill. Maybe it was just me but the texture and quality of the submarine bread is better in Oakland. I'm not sure what kind of sauce/spice/whatever they put on their sandwiches but they certainly add extra flavor and tastiness to the mix. Love their french fries too--they are the perfect crispiness and come in huge helpings. The sandwiches alone are giant. Eating here kept me full for the day or the leftovers lasted for two meals.                                                                                                                                                                                                                                                                                                                                                                                                                                                                                                                                                                                                                                                                                                                                                                                                                                                                                                                                                                                                                                                                                                                                                                                                                                                                                                                                                                                                                                                                                                                                                                                                                                                                                                                                                                                                                                                                                                                                                                                                                                                                                                                                                                                                                                                                                                                                                                                                                                                                                                                                                                                                                                                                                                                                                                                                                                                                                                                                                                                                                                                                                                                                                                                                                                                                                                                                                                                                                                                                                                                                                                                                                                                                                                                                                                                                                                                                                                                                                                                                                                                                                                                                                                                                                                                                                                                                                                                                                                                                                                                                                                                                                                                      0.000037\n",
              "Boyfriend and I do a once a week cheat day. This week we visited Ozzy's! We shared a large order of onion rings. We waited about 5 minutes. The onion rings were excellent. They were hot from the fryer and extremely crispy. Would highly recommend. \\n\\nThe last thing I should mention is that the girl who took our order looked extremely annoyed and bored. However, the food was good and the service was quick, so the girl's attitude didn't significantly hamper our viist.                                                                                                                                                                                                                                                                                                                                                                                                                                                                                                                                                                                                                                                                                                                                                                                                                                                                                                                                                                                                                                                                                                                                                                                                                                                                                                                                                                                                                                                                                                                                                                                                                                                                                                                                                                                                                                                                                                                                                                                                                                                                                                                                                                                                                                                                                                                                                                                                                                                                                                                                                                                                                                                                                                                                                                                                                                                                                                                                                                                                                                                                                                                                                                                                                                                                                                                                                                                                                                                                                                                                                                                                                                                                                                                                                                                                                                                                                                                                                                                                                                                                                                                                                                                                                                                                                                                                                                                                                                                                                                                                                                                                                                                                                                                                    0.000037\n",
              "Eric did a very amazing job! We never had to go to court and everything was done nicely and swiftly :) I would highly recommend him to anyone!! Thank you so much for all your hard work, it is much appreciated :)                                                                                                                                                                                                                                                                                                                                                                                                                                                                                                                                                                                                                                                                                                                                                                                                                                                                                                                                                                                                                                                                                                                                                                                                                                                                                                                                                                                                                                                                                                                                                                                                                                                                                                                                                                                                                                                                                                                                                                                                                                                                                                                                                                                                                                                                                                                                                                                                                                                                                                                                                                                                                                                                                                                                                                                                                                                                                                                                                                                                                                                                                                                                                                                                                                                                                                                                                                                                                                                                                                                                                                                                                                                                                                                                                                                                                                                                                                                                                                                                                                                                                                                                                                                                                                                                                                                                                                                                                                                                                                                                                                                                                                                                                                                                                                                                                                                                                                                                                                                                       0.000037\n",
              "We stopped here for lunch while down south visiting my in-laws and so far it is the best food we've had down here. My husband had the chicken salad sandwich and I had the chicken n' waffles. Both were amazing. My husband keeps raving about the sandwich and the Brussels sprouts; and can't wait to go back to try something else. \\n\\nThe wait staff was super friendly, service was prompt and great and the bathrooms were really clean. \\n\\nOverall it was a great experience and we would definitely go back!!                                                                                                                                                                                                                                                                                                                                                                                                                                                                                                                                                                                                                                                                                                                                                                                                                                                                                                                                                                                                                                                                                                                                                                                                                                                                                                                                                                                                                                                                                                                                                                                                                                                                                                                                                                                                                                                                                                                                                                                                                                                                                                                                                                                                                                                                                                                                                                                                                                                                                                                                                                                                                                                                                                                                                                                                                                                                                                                                                                                                                                                                                                                                                                                                                                                                                                                                                                                                                                                                                                                                                                                                                                                                                                                                                                                                                                                                                                                                                                                                                                                                                                                                                                                                                                                                                                                                                                                                                                                                                                                                                                                                                                                                                                  0.000037\n",
              "Today I decided to visit this place for the first time. Got the plain hot dog & a poutine, and it was quite delicious and tastier than I expected, and Also came with a good serving of food to go with it. This is the only location I've seen where Coca Cola comes in a glass bottle. (I'm pretty sure there maybe others too). \\n\\nWhenever I'm in the area again, I'll definitely revisit.                                                                                                                                                                                                                                                                                                                                                                                                                                                                                                                                                                                                                                                                                                                                                                                                                                                                                                                                                                                                                                                                                                                                                                                                                                                                                                                                                                                                                                                                                                                                                                                                                                                                                                                                                                                                                                                                                                                                                                                                                                                                                                                                                                                                                                                                                                                                                                                                                                                                                                                                                                                                                                                                                                                                                                                                                                                                                                                                                                                                                                                                                                                                                                                                                                                                                                                                                                                                                                                                                                                                                                                                                                                                                                                                                                                                                                                                                                                                                                                                                                                                                                                                                                                                                                                                                                                                                                                                                                                                                                                                                                                                                                                                                                                                                                                                                           0.000037\n",
              "Grilled chicken plate is the best. Also, the chocolate flan is amazing when you're drunk! haha                                                                                                                                                                                                                                                                                                                                                                                                                                                                                                                                                                                                                                                                                                                                                                                                                                                                                                                                                                                                                                                                                                                                                                                                                                                                                                                                                                                                                                                                                                                                                                                                                                                                                                                                                                                                                                                                                                                                                                                                                                                                                                                                                                                                                                                                                                                                                                                                                                                                                                                                                                                                                                                                                                                                                                                                                                                                                                                                                                                                                                                                                                                                                                                                                                                                                                                                                                                                                                                                                                                                                                                                                                                                                                                                                                                                                                                                                                                                                                                                                                                                                                                                                                                                                                                                                                                                                                                                                                                                                                                                                                                                                                                                                                                                                                                                                                                                                                                                                                                                                                                                                                                            0.000037\n",
              "Generally speaking I love this place... at least the pizza.  But we visited on 9/16 and had a less than desirable experience. And least for the price.\\n\\nOrdered the soup, fruit cup for the toddler and \"jumbo wings\".\\n\\nThe soup was just over room temperature, we didn't complain mostly because it took so long to get it and the beer that we ordered immediately.  The wings, \"jumbo wings\" (see photo) were actually almost comically small - however the flavour spot on (ginger teriyaki).\\n\\nFruit was good , decent portion .  Beer was cold, when it got there.\\n\\nHonestly we were confused with who was waiting on us....\\n\\nI've had good experiences here, but this was some of the worst.                                                                                                                                                                                                                                                                                                                                                                                                                                                                                                                                                                                                                                                                                                                                                                                                                                                                                                                                                                                                                                                                                                                                                                                                                                                                                                                                                                                                                                                                                                                                                                                                                                                                                                                                                                                                                                                                                                                                                                                                                                                                                                                                                                                                                                                                                                                                                                                                                                                                                                                                                                                                                                                                                                                                                                                                                                                                                                                                                                                                                                                                                                                                                                                                                                                                                                                                                                                                                                                                                                                                                                                                                                                                                                                                                                                                                                                                                                                                                                                                                                                                                                                                                                                                                                                                                                                                                                                                                                                                                                             0.000037\n",
              "Solid, as advertised. Skip the carnitas and carne asada lines, double down on the spicy pork. The side greens are free if you ask for them, as is salsa at the cash register.                                                                                                                                                                                                                                                                                                                                                                                                                                                                                                                                                                                                                                                                                                                                                                                                                                                                                                                                                                                                                                                                                                                                                                                                                                                                                                                                                                                                                                                                                                                                                                                                                                                                                                                                                                                                                                                                                                                                                                                                                                                                                                                                                                                                                                                                                                                                                                                                                                                                                                                                                                                                                                                                                                                                                                                                                                                                                                                                                                                                                                                                                                                                                                                                                                                                                                                                                                                                                                                                                                                                                                                                                                                                                                                                                                                                                                                                                                                                                                                                                                                                                                                                                                                                                                                                                                                                                                                                                                                                                                                                                                                                                                                                                                                                                                                                                                                                                                                                                                                                                                             0.000037\n",
              "Why did I not know about this place sooner?!? Did a couple of lunches here over the past couple of months, and still haven't ventured past the Monte Cristo and Mac and Cheese. I could eat those things daily, and die happy at 40. The rest of the stuff looked good though, but GET THE MONTE CRISTO!\\n\\nYou'll thank me later.\\n\\nOh yeah, it is also very affordable, even with a strawberry lemonade.                                                                                                                                                                                                                                                                                                                                                                                                                                                                                                                                                                                                                                                                                                                                                                                                                                                                                                                                                                                                                                                                                                                                                                                                                                                                                                                                                                                                                                                                                                                                                                                                                                                                                                                                                                                                                                                                                                                                                                                                                                                                                                                                                                                                                                                                                                                                                                                                                                                                                                                                                                                                                                                                                                                                                                                                                                                                                                                                                                                                                                                                                                                                                                                                                                                                                                                                                                                                                                                                                                                                                                                                                                                                                                                                                                                                                                                                                                                                                                                                                                                                                                                                                                                                                                                                                                                                                                                                                                                                                                                                                                                                                                                                                                                                                                                                               0.000037\n",
              "It might just be me, but when you step into FireRock, it feels like you're literally walking into the one and only Shenanigans. This place has the cookie cutter chain restaurant feeling down to a science. From the cheesy decor trying to look like an upscale steakhouse, to the terrible service from waiters who obviously don't want to be there, and the mediocre and overpriced food, it's like you're on the set of a movie...\\n\\nWe sat down here for dinner this past Sunday night at around 5:30. With it being fairly new to an area with otherwise almost no good restaurants, I thought it would be much busier than it was. After all was said and done, I could see why it wasn't. Honestly, it's surprising to me that people would come here more than once, but I guess that's what keeps all these chain restaurants alive and kicking.\\n\\nWhen it comes to the menu here, it looks small at first, but has a whole bunch of options. I just really don't get those options. FireRock Steakhouse is supposed to specialize in steaks (it's in their name), yet they only have a few cuts of meats...with the rest of the menu having everything from street tacos to a monte cristo. Maybe the concept is just over my head, but their menu literally has about a quarter of a page featuring steaks, and that's it.\\n\\nBecause it is a steakhouse, of course I wanted to try their steak. I ended up deciding on the Cajun-Spiced Ribeye, which for whatever reason is $2 more than their regular ribeye. The only difference it it's supposed to have cajun spices, which I think to them only means cayenne and paprika, and then some \"Creole Butter\". I'm almost positive they just use the exact stuff sold in a jar that goes by that name, and that's where they are getting the $2 up-charge from. You might have guessed it by now, but this steak was nowhere near worth it's $26 price tag. I requested it medium-rare and it was overcooked. Very little marbling in the meat, not much fat or flavor, and a really thin cut. You can see from my picture that there was virtually no juice from the meat on the plate, and it stayed that way even after being cut into. Any juicy was likely from the jarred Creole Butter anyway.\\n\\nWhat made FireRock even worse is the service. I realize they are still pretty new, but they've been open almost 2 months now. You'd think they'd have a good amount of the kinks worked out, but that just isn't the case. Our waiter looked like he was in hell, and every time he'd fill a drink cup, he'd slam the cup on the table like he was taking out his aggression on my poor iced tea. I'd say thank you, he'd walk away without saying a word. We had to ask for things more than once, and just to get some bread took 10 minutes. He just didn't really seem to care to be there at all.\\n\\nAnd while maybe not directly his fault, our salads took almost 30 minutes to come out, with our main entrees taking just over an hour. With our small party of 6, and the restaurant pretty slow overall, it shouldn't have taken nearly that long. To add fuel to the fire, my wife ordered a filet cooked medium, yet it came out much closer to medium-rare and was basically cold to the touch.\\n\\nAs I said, I'm not sure what FireRock is going for. A menu that's all over the place with crap service and mediocre, overpriced food is a recipe for disaster. The good thing they have going for them is they are maybe 1/2 a step-up from an Outback, and are surrounded by other crappy restaurants. For people who constantly frequent mediocre chain restaurants, this might be a welcome addition...for everyone else, methinks not. \"Eat somewhere else, enjoy your food\".                                                                                                                                                                                                                                                                                                                                                                                                                                                                                                                                                                                                                                                                                                                                                                                                                                                                                                                                                                                                                                                                                                                                                                                                                                                                                                                                                                                                                                             0.000037\n",
              "We were very excited to go here, since I am a big Gordon Ramsay fan. We didn't mind the 40 minute wait in line and ordered three of the hotdogs and an American burger.\\n\\nThe hot dogs were excellent but the burger was over cooked to well done and honestly not very good. \\n\\nWhen we mentioned it to our server, he just brushed it off and still charged us the full $115 bucks for lunch.\\n\\nWe left disappointed, so I called my sister who has eaten here several times with her husband. She told me they usually overcook my brother-in-law's burgers too, which he doesn't like, so I guess it isn't just us.\\n\\nI will come back here for the hotdogs, drinks and dessert, but if we do order another burger, I will hold the waiter responsible to get it cooked right - never more than medium.                                                                                                                                                                                                                                                                                                                                                                                                                                                                                                                                                                                                                                                                                                                                                                                                                                                                                                                                                                                                                                                                                                                                                                                                                                                                                                                                                                                                                                                                                                                                                                                                                                                                                                                                                                                                                                                                                                                                                                                                                                                                                                                                                                                                                                                                                                                                                                                                                                                                                                                                                                                                                                                                                                                                                                                                                                                                                                                                                                                                                                                                                                                                                                                                                                                                                                                                                                                                                                                                                                                                                                                                                                                                                                                                                                                                                                                                                                                                                                                                                                                                                                                                                                                                                                                                                                                                                                                                           0.000037\n",
              "Arrived to watch the NFL playoff game on a Sunday morning. The game was already and I wanted to order some food but they don't serve until 11 am.\\n\\nI like how the place has flat screens everywhere so you can enjoy any sporting event wherever you're sitting. I sat at the bar and the female bartender who was younger and super friendly. I ended up ordering some hot wings and they were running a special since it was game day. The wings were decent and tasted great with my Blue Moon beers.\\n\\nThe place seemed like a locals hangout and everyone was friendly. I enjoyed my time spent here and would return here again.                                                                                                                                                                                                                                                                                                                                                                                                                                                                                                                                                                                                                                                                                                                                                                                                                                                                                                                                                                                                                                                                                                                                                                                                                                                                                                                                                                                                                                                                                                                                                                                                                                                                                                                                                                                                                                                                                                                                                                                                                                                                                                                                                                                                                                                                                                                                                                                                                                                                                                                                                                                                                                                                                                                                                                                                                                                                                                                                                                                                                                                                                                                                                                                                                                                                                                                                                                                                                                                                                                                                                                                                                                                                                                                                                                                                                                                                                                                                                                                                                                                                                                                                                                                                                                                                                                                                                                                                                                                                                                                                                                                 0.000037\n",
              "This is the drug store we go to.  They have a good supply of various items, but their prices are way over what can be had at Target or Wally World.  We go here mainly for the pharmacy.  Prescriptions are ordered online and pick up is generally quick.\\n\\nIt's near home, there are several Starbucks nearby, the gym isn't too far away.  Parking can be an issue and getting in and out is almost bumper cars at times.                                                                                                                                                                                                                                                                                                                                                                                                                                                                                                                                                                                                                                                                                                                                                                                                                                                                                                                                                                                                                                                                                                                                                                                                                                                                                                                                                                                                                                                                                                                                                                                                                                                                                                                                                                                                                                                                                                                                                                                                                                                                                                                                                                                                                                                                                                                                                                                                                                                                                                                                                                                                                                                                                                                                                                                                                                                                                                                                                                                                                                                                                                                                                                                                                                                                                                                                                                                                                                                                                                                                                                                                                                                                                                                                                                                                                                                                                                                                                                                                                                                                                                                                                                                                                                                                                                                                                                                                                                                                                                                                                                                                                                                                                                                                                                                             0.000037\n",
              "Alright, everyone knows Whole Foods isn't cheap. But I need it. NEED it.\\n\\nI've been to a lot of grocery stores in this town, and nobody else has Silk soy yogurt. What is up with that? Actually, I take that back--Smith's has introduced Silk yogurt in the tiny packages, but why should I buy five of those little containers when I can buy a giant one at Whole Foods for a better price?\\n\\nI really disliked this store at first because it just doesn't compare to the Austin one. But what stores possibly could? Compared to other Las Vegas grocery stores, this may as well be Disneyland. Nobody else comes close when it comes to organic produce, vegan desserts, vegetarian meats, eco-friendly packaging, handmade soaps and PETA-approved beauty products.\\n\\nI'm sorry, Whole Foods. I just can't give you five stars because I know you could be even better. Expand your store, hire some friendly people to run it and I'll reconsider.                                                                                                                                                                                                                                                                                                                                                                                                                                                                                                                                                                                                                                                                                                                                                                                                                                                                                                                                                                                                                                                                                                                                                                                                                                                                                                                                                                                                                                                                                                                                                                                                                                                                                                                                                                                                                                                                                                                                                                                                                                                                                                                                                                                                                                                                                                                                                                                                                                                                                                                                                                                                                                                                                                                                                                                                                                                                                                                                                                                                                                                                                                                                                                                                                                                                                                                                                                                                                                                                                                                                                                                                                                                                                                                                                                                                                                                                                                                                                                                                                                                                                                                                                                                                                                                          0.000037\n",
              "Average hotel. This would not be a place I would spend my vacation in but its functional for the night or two you might need a room. Other then the Black mold that I found in the Bathtub around the drain and the broken drain stopper that was stuck in the shut position the hotel was ok. The front door to some of the rooms also had some issues with the electric locks as some did not work. As far as the lobby goes be prepared to walk through a construction zone as they have some of the front lobby still under construction. Only other complaint I had was also having to go through random doors stashed in the middle of the hallways.                                                                                                                                                                                                                                                                                                                                                                                                                                                                                                                                                                                                                                                                                                                                                                                                                                                                                                                                                                                                                                                                                                                                                                                                                                                                                                                                                                                                                                                                                                                                                                                                                                                                                                                                                                                                                                                                                                                                                                                                                                                                                                                                                                                                                                                                                                                                                                                                                                                                                                                                                                                                                                                                                                                                                                                                                                                                                                                                                                                                                                                                                                                                                                                                                                                                                                                                                                                                                                                                                                                                                                                                                                                                                                                                                                                                                                                                                                                                                                                                                                                                                                                                                                                                                                                                                                                                                                                                                                                                                                                                                                0.000037\n",
              "Wow, not a fan.  Had high expectations.  We ordered the lunch special, 3 hand rolled items, which were conical wraps with too much nori.  The food on the plate, upon arrival, smelled fishy and then the wraps  tasted fishy.  The salmon skin instead of salmon filling was just gross.  It seemed as though leftover, not-so-fresh ends and pieces were ground together and stuffed in the wraps.  On the plus side, the miso soup and small side salad were delicious.  Service was OK until our waitress saw our uneaten food and said something about sloppy instead of asking how the food was.  What???!!!                                                                                                                                                                                                                                                                                                                                                                                                                                                                                                                                                                                                                                                                                                                                                                                                                                                                                                                                                                                                                                                                                                                                                                                                                                                                                                                                                                                                                                                                                                                                                                                                                                                                                                                                                                                                                                                                                                                                                                                                                                                                                                                                                                                                                                                                                                                                                                                                                                                                                                                                                                                                                                                                                                                                                                                                                                                                                                                                                                                                                                                                                                                                                                                                                                                                                                                                                                                                                                                                                                                                                                                                                                                                                                                                                                                                                                                                                                                                                                                                                                                                                                                                                                                                                                                                                                                                                                                                                                                                                                                                                                                                        0.000037\n",
              "Beautiful addition to Vegas! Been here so many times and I was excited to see this improvement! I got to experience good old vegas fun at night, and feel like I was on real vacation during the day!                                                                                                                                                                                                                                                                                                                                                                                                                                                                                                                                                                                                                                                                                                                                                                                                                                                                                                                                                                                                                                                                                                                                                                                                                                                                                                                                                                                                                                                                                                                                                                                                                                                                                                                                                                                                                                                                                                                                                                                                                                                                                                                                                                                                                                                                                                                                                                                                                                                                                                                                                                                                                                                                                                                                                                                                                                                                                                                                                                                                                                                                                                                                                                                                                                                                                                                                                                                                                                                                                                                                                                                                                                                                                                                                                                                                                                                                                                                                                                                                                                                                                                                                                                                                                                                                                                                                                                                                                                                                                                                                                                                                                                                                                                                                                                                                                                                                                                                                                                                                                     0.000037\n",
              "I live in Verrado so have dined at the Grille many, many times. First of all, it is a gorgeous location and atmosphere. Whether eating indoors or on the outdoor patio facing the mountains, it's always a very comfortable atmosphere. Ambiance alone makes this a great place.\\n\\nI am delighted to see a new item on their menu that is vegetarian -- it's a grilled veggie wrap and since i'm vegan, i just ordered it without the cheese, and unlike most vegetarian items that are tasteless without cheese, this sandwich was perfect. Very tasty non-dairy dressing. Two thumbs up to the Verrado Grille for adding this healthy and cruelty-free option to their menu. Now when my meat-eater friends and family dine there, I no longer have to decline. :) \\n\\nAlso, the chocolate cake I had there was one of the best chocolate cakes I've ever had anywhere! \\n\\nDefinitely worth the drive if you are outside of Verrado.                                                                                                                                                                                                                                                                                                                                                                                                                                                                                                                                                                                                                                                                                                                                                                                                                                                                                                                                                                                                                                                                                                                                                                                                                                                                                                                                                                                                                                                                                                                                                                                                                                                                                                                                                                                                                                                                                                                                                                                                                                                                                                                                                                                                                                                                                                                                                                                                                                                                                                                                                                                                                                                                                                                                                                                                                                                                                                                                                                                                                                                                                                                                                                                                                                                                                                                                                                                                                                                                                                                                                                                                                                                                                                                                                                                                                                                                                                                                                                                                                                                                                                                                                                                                                                                                                  0.000037\n",
              "Store was a disaster! Nothing in stock and all the products that were for sale was opened and used  such a waste of a trip.                                                                                                                                                                                                                                                                                                                                                                                                                                                                                                                                                                                                                                                                                                                                                                                                                                                                                                                                                                                                                                                                                                                                                                                                                                                                                                                                                                                                                                                                                                                                                                                                                                                                                                                                                                                                                                                                                                                                                                                                                                                                                                                                                                                                                                                                                                                                                                                                                                                                                                                                                                                                                                                                                                                                                                                                                                                                                                                                                                                                                                                                                                                                                                                                                                                                                                                                                                                                                                                                                                                                                                                                                                                                                                                                                                                                                                                                                                                                                                                                                                                                                                                                                                                                                                                                                                                                                                                                                                                                                                                                                                                                                                                                                                                                                                                                                                                                                                                                                                                                                                                                                               0.000037\n",
              "Came for a refill on a really bad job done at a different place..... they were very meticulous in regards to correcting the complaints I had about the set I was wearing. Now that my nails are redone with my natural length and thinned out they look awesome. I'm very please how light they feel  and natural they look. Staff is friendly and peaceful place. Steady amount of clients came in and they all seemed pleased and relaxed. Will come again and recommend to friends as I am pretty picky and I think this place was great.                                                                                                                                                                                                                                                                                                                                                                                                                                                                                                                                                                                                                                                                                                                                                                                                                                                                                                                                                                                                                                                                                                                                                                                                                                                                                                                                                                                                                                                                                                                                                                                                                                                                                                                                                                                                                                                                                                                                                                                                                                                                                                                                                                                                                                                                                                                                                                                                                                                                                                                                                                                                                                                                                                                                                                                                                                                                                                                                                                                                                                                                                                                                                                                                                                                                                                                                                                                                                                                                                                                                                                                                                                                                                                                                                                                                                                                                                                                                                                                                                                                                                                                                                                                                                                                                                                                                                                                                                                                                                                                                                                                                                                                                              0.000037\n",
              "I've been to Bellagio a couple times now and each time has been fabulous. I have had acrylic nails and was very pleased. Today I am having a mani pedi with my best friend and I am super impressed. The lady doing mine is super nice and helpful. I have yet to make an appointment here as they always seem to have people available. The spa is beautiful and the prices are very reasonable. I know my friend and I are going to continue to come here. The service is great, the place is beautiful and I couldn't be happier!                                                                                                                                                                                                                                                                                                                                                                                                                                                                                                                                                                                                                                                                                                                                                                                                                                                                                                                                                                                                                                                                                                                                                                                                                                                                                                                                                                                                                                                                                                                                                                                                                                                                                                                                                                                                                                                                                                                                                                                                                                                                                                                                                                                                                                                                                                                                                                                                                                                                                                                                                                                                                                                                                                                                                                                                                                                                                                                                                                                                                                                                                                                                                                                                                                                                                                                                                                                                                                                                                                                                                                                                                                                                                                                                                                                                                                                                                                                                                                                                                                                                                                                                                                                                                                                                                                                                                                                                                                                                                                                                                                                                                                                                                      0.000037\n",
              "The Good:\\n\\n-People working behind the counter are enthusiastic.\\n-Tons of extra fries thrown in the bag.  Not overly salted, but could use a little bit more crunch.\\n-The food isn't bad.  Burger tastes fresh.\\n\\nThe Bad / Meh:\\n\\n-The music was cranked up way too loud.  Seems like a set of speakers need to be installed in the kitchen so it doesn't have to be cranked up for the workers to hear it.\\n\\n-The burgers aren't anything to write home about.  The bun tastes like a regular bun you can get anywhere, the meat patty could use some extra seasoning.  The cheese is plain-old American cheese.\\n\\n-The price.  While the price isn't outrageous, $13 for a burger and fries that aren't really \"high end\" is a bit much.  (It's regular beef it's nothing special like organic / grass fed / whatever).\\n\\nThe Bottom Line:\\n\\nI normally don't eat burgers but made an exception for Five Guys due to all the \"omgz this is awesome\" hype.  It's 3 stars...better than fast food but not something to go out of my way for.                                                                                                                                                                                                                                                                                                                                                                                                                                                                                                                                                                                                                                                                                                                                                                                                                                                                                                                                                                                                                                                                                                                                                                                                                                                                                                                                                                                                                                                                                                                                                                                                                                                                                                                                                                                                                                                                                                                                                                                                                                                                                                                                                                                                                                                                                                                                                                                                                                                                                                                                                                                                                                                                                                                                                                                                                                                                                                                                                                                                                                                                                                                                                                                                                                                                                                                                                                                                                                                                                                                                                                                                                                                                                                                                                                                                                                                                                                                                                                                                                                                                                                                                                                    0.000037\n",
              "Best friend and I went in, had appointments. Arrived a bit early and were laughed at for it. Our appointment time came and passed, no one said a thing, some stylists even left/went on break. No one acknowledged us so 30 minutes after our scheduled time, we left.                                                                                                                                                                                                                                                                                                                                                                                                                                                                                                                                                                                                                                                                                                                                                                                                                                                                                                                                                                                                                                                                                                                                                                                                                                                                                                                                                                                                                                                                                                                                                                                                                                                                                                                                                                                                                                                                                                                                                                                                                                                                                                                                                                                                                                                                                                                                                                                                                                                                                                                                                                                                                                                                                                                                                                                                                                                                                                                                                                                                                                                                                                                                                                                                                                                                                                                                                                                                                                                                                                                                                                                                                                                                                                                                                                                                                                                                                                                                                                                                                                                                                                                                                                                                                                                                                                                                                                                                                                                                                                                                                                                                                                                                                                                                                                                                                                                                                                                                                    0.000037\n",
              "I love the staff and the food! They are always super nice and the food is ready in a timely manner.                                                                                                                                                                                                                                                                                                                                                                                                                                                                                                                                                                                                                                                                                                                                                                                                                                                                                                                                                                                                                                                                                                                                                                                                                                                                                                                                                                                                                                                                                                                                                                                                                                                                                                                                                                                                                                                                                                                                                                                                                                                                                                                                                                                                                                                                                                                                                                                                                                                                                                                                                                                                                                                                                                                                                                                                                                                                                                                                                                                                                                                                                                                                                                                                                                                                                                                                                                                                                                                                                                                                                                                                                                                                                                                                                                                                                                                                                                                                                                                                                                                                                                                                                                                                                                                                                                                                                                                                                                                                                                                                                                                                                                                                                                                                                                                                                                                                                                                                                                                                                                                                                                                       0.000037\n",
              "New York pizza, this is not! Where the crust wasn't soggy, it was tough and rubbery. Add that to canned mushrooms and frozen spinach (at least it tasted like frozen) and you've got one disappointing calzone. My husband, raised on New York-style pizza, was not impressed either. The only reason I'm not giving it only one star is because I was able to eat it.                                                                                                                                                                                                                                                                                                                                                                                                                                                                                                                                                                                                                                                                                                                                                                                                                                                                                                                                                                                                                                                                                                                                                                                                                                                                                                                                                                                                                                                                                                                                                                                                                                                                                                                                                                                                                                                                                                                                                                                                                                                                                                                                                                                                                                                                                                                                                                                                                                                                                                                                                                                                                                                                                                                                                                                                                                                                                                                                                                                                                                                                                                                                                                                                                                                                                                                                                                                                                                                                                                                                                                                                                                                                                                                                                                                                                                                                                                                                                                                                                                                                                                                                                                                                                                                                                                                                                                                                                                                                                                                                                                                                                                                                                                                                                                                                                                                    0.000037\n",
              "This branch of the Maricopa Public Library system is located at Perry High School and serves as a school library and public library. There are a variety of books, audiobooks, DVDs, Blu-rays, and CDs for adults, children and teens and a collection of large print. They have online resources such as ebooks, downloadable audiobooks, online magazines, databases for research and streaming movies and music. \\nIf the branch doesn't have an item you want, you can request it from another branch and they send it over for free!  There are also programs that are free to the public for kids, adults and teens.                                                                                                                                                                                                                                                                                                                                                                                                                                                                                                                                                                                                                                                                                                                                                                                                                                                                                                                                                                                                                                                                                                                                                                                                                                                                                                                                                                                                                                                                                                                                                                                                                                                                                                                                                                                                                                                                                                                                                                                                                                                                                                                                                                                                                                                                                                                                                                                                                                                                                                                                                                                                                                                                                                                                                                                                                                                                                                                                                                                                                                                                                                                                                                                                                                                                                                                                                                                                                                                                                                                                                                                                                                                                                                                                                                                                                                                                                                                                                                                                                                                                                                                                                                                                                                                                                                                                                                                                                                                                                                                                                                                                0.000037\n",
              "For sweet or salty treats!  Recommended!  We had the fondue, Crepes, Omelets.  If you like Hot chocolate look for the special formula                                                                                                                                                                                                                                                                                                                                                                                                                                                                                                                                                                                                                                                                                                                                                                                                                                                                                                                                                                                                                                                                                                                                                                                                                                                                                                                                                                                                                                                                                                                                                                                                                                                                                                                                                                                                                                                                                                                                                                                                                                                                                                                                                                                                                                                                                                                                                                                                                                                                                                                                                                                                                                                                                                                                                                                                                                                                                                                                                                                                                                                                                                                                                                                                                                                                                                                                                                                                                                                                                                                                                                                                                                                                                                                                                                                                                                                                                                                                                                                                                                                                                                                                                                                                                                                                                                                                                                                                                                                                                                                                                                                                                                                                                                                                                                                                                                                                                                                                                                                                                                                                                     0.000037\n",
              "I have been a Home Depot fan for a long time, however I purchased a new Refrigerator in late November and it has been the worst nightmare that I am still dealing with.  Set up our delivery in conjunction with our move date into our new home about 5 weeks out. On the day of delivery a Friday, no calls and no delivery. As I began the process to find out where it's at, I was transferred around and they couldn't find a record I bought it!! Then I was told they over sold the unit and it would be upgraded, but not delivered for another week, no notice, no calls from them. With no fridge we lost all of our refrigerated and frozen food and went a week without a fridge. On the new delivery day a non upgraded fridge was delivered with an out of align freezer drawer that doesn't open correctly with scratches on the 3 handles! To date I have been on hold for more than 2.5 HOURS, have visited the store 3 times and Spoken to over 6 different people!!  Now they are going to send a repair technician to repair our new fridge... Not only are we ending up with a repaired new fridge I have lost over $500 In food and lost time in dealing with this, and it's not over yet.  Today I was offered a $50.00 dollar gift card for my trouble...WOW.  SORRY but Home Depot is losing s great customer.  Very unfortunate scenario I wouldn't wish on anyone and this whole scenario doesn't seem like the Home Depot I have known.                                                                                                                                                                                                                                                                                                                                                                                                                                                                                                                                                                                                                                                                                                                                                                                                                                                                                                                                                                                                                                                                                                                                                                                                                                                                                                                                                                                                                                                                                                                                                                                                                                                                                                                                                                                                                                                                                                                                                                                                                                                                                                                                                                                                                                                                                                                                                                                                                                                                                                                                                                                                                                                                                                                                                                                                                                                                                                                                                                                                                                                                                                                                                                                                                                                                                                                                                                                                                                                                                                                                                                                                                                                                                                                                                       0.000037\n",
              "I love this place everytime I'm here! They have seasonal special ramen. This time round, I tried the Anchovy ramen. I'm always scared of something having the fishy smell... But I braved myself and thank goodness... I was not disappointed. The servers were great and I truly find an authentic Japanese spirit in this place. My friend commented that the ramen was too salty, but I guess it's very dependent on every individual's taste palate.                                                                                                                                                                                                                                                                                                                                                                                                                                                                                                                                                                                                                                                                                                                                                                                                                                                                                                                                                                                                                                                                                                                                                                                                                                                                                                                                                                                                                                                                                                                                                                                                                                                                                                                                                                                                                                                                                                                                                                                                                                                                                                                                                                                                                                                                                                                                                                                                                                                                                                                                                                                                                                                                                                                                                                                                                                                                                                                                                                                                                                                                                                                                                                                                                                                                                                                                                                                                                                                                                                                                                                                                                                                                                                                                                                                                                                                                                                                                                                                                                                                                                                                                                                                                                                                                                                                                                                                                                                                                                                                                                                                                                                                                                                                                                                  0.000037\n",
              "Worst.  Massage.  Ever.\\n\\nI guess I should clarify that a little.  \"Worst massage experience ever\" is a little more appropriate.  I came to this establishment because I bought a Groupon for a 60-minute massage and optional spray tan.  I was a first time client, which is what these marketing promotions are supposed to attract, right?  Well, rest assured I will never step foot on the premises again.  If you don't want to read the whole review, the take-away keywords are: unprofessional, trashy and appalling.  \\n\\nThis miserable tale begins with me arriving a few minutes early to the strip mall where this place is located.  The office area appears to have a number of people operating various businesses out of one space with one common waiting room.  Fifteen minutes after the massage was supposed to start, Jan Thompson (owner) came out, apologized for running late and said she would be ready in a moment.  \\n\\nAfter a few minutes, I entered the massage room that doubles as a spray tan application area.  The room was rather trashy, with products and random things shoved in corners and around the perimeter of the room.  The room was right next to the front door so it wasn't very quiet.  Also, the front of the room consisted of store front windows that were somewhat poorly covered both in style and effect.  The room did nothing to lend itself to a relaxing environment.  Had I been paying full price for this massage I would have probably just turned around then but since it was only $39 I figured I'd just go with it.  \"How bad could it be?\" I foolishly asked myself.  Jan introduced herself, told me that she would be using hot stones during the massage if that was okay and then asked if I had any requests.  I said that I had been to the chiropractor the day before and would like her focus on my lower back and leg muscles.   She said she would be happy to do that and said she would be checking in with me throughout the massage to make sure the pressure was okay.  I said that would be great because I tend to prefer more of a deep tissue massage to which she responded \"I have strong hands so I'll make sure to check to make sure it's not too much.\" \\n\\nThe massage began with Jan attempting to strike up some conversation.  Personally, I don't care to talk during a massage with someone I'm not familiar with but, whatever.  She asked which chiropractor I was seeing.  A seemingly innocuous question, right?  I told her my chiropractor's name to which she responded, \"Oh, I don't like her.  She soaked my mom dry.  She had her on all this stuff, some sort of powder, and none of it helped her...\"  Now, I'm all for sharing personal experiences and reviews (obviously) but I didn't care to hear Jan trash talk my chiropractor and personal friend DURING MY MASSAGE.  I find it incredibly unprofessional for someone to make such comments to a total stranger, especially in this setting.  I responded with a vague, placating comment and tried to just shrug it off in hopes of salvaging this massage.  Unfortunately, there was no salvaging to be had.\\n\\nThe massage continued adequately with the use of hot stones and some stretching.  Suddenly, I hear some beeps behind me and a whirring sound.  Jan said she was warming up a neck pillow for me to help relax my muscles.  I think this was the first time I've experienced a microwave being used during a massage-but this massage was pretty atypical from the start so I just rolled with it.  And then I began to hear a vibrating noise.  At first I thought I accidentally turned my phone on vibrate instead of silent until I realized it was coming from a table closer to my head.  It was Jan's phone, and it kept vibrating.  There were probably five phone calls worth before she stopped the massage, told me she had a flat tire and needed to check her messages to make sure the towing company wasn't outside.  In shock, I said \"okay\".  She proceeded to listen to all of her messages, apologized and then continued the massage.  After several minutes, the vibrating began again and after a few more calls she again stopped the massage.  She again apologized and said the towing company was outside and she needed to step away for a few minutes.  I just laid there, in awe of how ridiculous this experience had been so far, and just said \"okay\".\\n\\nAfter about five minutes Jan came back, apologized again and said that I could come back sometime and she would give me a free 30 minute massage to make up for the interruptions.  The massage had lasted 45 minutes at this point and I was still lying on my back.  My one request was to have my lower back and leg muscles focused on and we hadn't even gotten to that yet.  The remainder of the massage consisted mostly of the use of hot stones and her elbow.  The \"strong hands\" that Jan mentioned during the opening act of this farce didn't make much of an appearance at all.\\n\\nI could go on with some of the other comedic details but I ran out of space.  Keep your free 30 minutes, I won't be back.    0.000037\n",
              "Very mediocre. The rice was way overly sweet and reminded me of grocery store sushi. In addition, the sushi was served room-temperature rather then cold. Will not go back.                                                                                                                                                                                                                                                                                                                                                                                                                                                                                                                                                                                                                                                                                                                                                                                                                                                                                                                                                                                                                                                                                                                                                                                                                                                                                                                                                                                                                                                                                                                                                                                                                                                                                                                                                                                                                                                                                                                                                                                                                                                                                                                                                                                                                                                                                                                                                                                                                                                                                                                                                                                                                                                                                                                                                                                                                                                                                                                                                                                                                                                                                                                                                                                                                                                                                                                                                                                                                                                                                                                                                                                                                                                                                                                                                                                                                                                                                                                                                                                                                                                                                                                                                                                                                                                                                                                                                                                                                                                                                                                                                                                                                                                                                                                                                                                                                                                                                                                                                                                                                                               0.000037\n",
              "Amazing food good service great staff. We have really good time very recommended I wanna come back again soon me and my friends                                                                                                                                                                                                                                                                                                                                                                                                                                                                                                                                                                                                                                                                                                                                                                                                                                                                                                                                                                                                                                                                                                                                                                                                                                                                                                                                                                                                                                                                                                                                                                                                                                                                                                                                                                                                                                                                                                                                                                                                                                                                                                                                                                                                                                                                                                                                                                                                                                                                                                                                                                                                                                                                                                                                                                                                                                                                                                                                                                                                                                                                                                                                                                                                                                                                                                                                                                                                                                                                                                                                                                                                                                                                                                                                                                                                                                                                                                                                                                                                                                                                                                                                                                                                                                                                                                                                                                                                                                                                                                                                                                                                                                                                                                                                                                                                                                                                                                                                                                                                                                                                                           0.000037\n",
              "I live in the Southend part of Charlotte but I would never go anywhere but to Bob Mayberry Hyundai for service (Thank you always Frank for taking such great care of my cars!) or to trade in my for my 4th Hyundai!  I have a 2007 Sonata, Had a 2011 Sonata but traded it for my hot red 2013 Elantra!  Is the buying process long...YES but just be patient to get the best deal.  Paul is an incredible listener...besides being awesome at sales.  Ted was my finance guru for all three sales and I would not have had it any other way.  The owners Mark, Brandon, and the late Bob Mayberry have the best dealership going!!!  Great job!!\\nSo in conclusion-- Yes, I would recommend this dealership!  Just 10 minutes down Hwy 74!                                                                                                                                                                                                                                                                                                                                                                                                                                                                                                                                                                                                                                                                                                                                                                                                                                                                                                                                                                                                                                                                                                                                                                                                                                                                                                                                                                                                                                                                                                                                                                                                                                                                                                                                                                                                                                                                                                                                                                                                                                                                                                                                                                                                                                                                                                                                                                                                                                                                                                                                                                                                                                                                                                                                                                                                                                                                                                                                                                                                                                                                                                                                                                                                                                                                                                                                                                                                                                                                                                                                                                                                                                                                                                                                                                                                                                                                                                                                                                                                                                                                                                                                                                                                                                                                                                                                                                                                                                                                              0.000037\n",
              "Love this place!! And the chips and green salsa!!! Yum!                                                                                                                                                                                                                                                                                                                                                                                                                                                                                                                                                                                                                                                                                                                                                                                                                                                                                                                                                                                                                                                                                                                                                                                                                                                                                                                                                                                                                                                                                                                                                                                                                                                                                                                                                                                                                                                                                                                                                                                                                                                                                                                                                                                                                                                                                                                                                                                                                                                                                                                                                                                                                                                                                                                                                                                                                                                                                                                                                                                                                                                                                                                                                                                                                                                                                                                                                                                                                                                                                                                                                                                                                                                                                                                                                                                                                                                                                                                                                                                                                                                                                                                                                                                                                                                                                                                                                                                                                                                                                                                                                                                                                                                                                                                                                                                                                                                                                                                                                                                                                                                                                                                                                                   0.000037\n",
              "Very good food. My friend is Mumbai and he could relate to the food easily. I was little skeptical as being Mumbaikar, he might throw tantrums about the food. But he really loved and I also liked it very much. It would be much better if it was little less spicy.                                                                                                                                                                                                                                                                                                                                                                                                                                                                                                                                                                                                                                                                                                                                                                                                                                                                                                                                                                                                                                                                                                                                                                                                                                                                                                                                                                                                                                                                                                                                                                                                                                                                                                                                                                                                                                                                                                                                                                                                                                                                                                                                                                                                                                                                                                                                                                                                                                                                                                                                                                                                                                                                                                                                                                                                                                                                                                                                                                                                                                                                                                                                                                                                                                                                                                                                                                                                                                                                                                                                                                                                                                                                                                                                                                                                                                                                                                                                                                                                                                                                                                                                                                                                                                                                                                                                                                                                                                                                                                                                                                                                                                                                                                                                                                                                                                                                                                                                                    0.000037\n",
              "Great service and great sushi. Toro is by far the best in the valley. Happy hour is one of the best I have ever encountered in the Valley. Service in wonderful as well. All of the waitresses that I have had have been more than helpful and friendly. After traveling throughout Asia and living in Southern California, I know good sushi, and the sushi at Stingray Biltmore is WONDERFUL. \\n\\nTip: Don't forget to top off your meal with a chocolate cake! and the Patio is INCREDIBLE                                                                                                                                                                                                                                                                                                                                                                                                                                                                                                                                                                                                                                                                                                                                                                                                                                                                                                                                                                                                                                                                                                                                                                                                                                                                                                                                                                                                                                                                                                                                                                                                                                                                                                                                                                                                                                                                                                                                                                                                                                                                                                                                                                                                                                                                                                                                                                                                                                                                                                                                                                                                                                                                                                                                                                                                                                                                                                                                                                                                                                                                                                                                                                                                                                                                                                                                                                                                                                                                                                                                                                                                                                                                                                                                                                                                                                                                                                                                                                                                                                                                                                                                                                                                                                                                                                                                                                                                                                                                                                                                                                                                                                                                                                                             0.000037\n",
              "Amazing. Fresh, delicious poke. The house sauce is great, and I love how you can customize your bowl. I go out of my way just to eat here.                                                                                                                                                                                                                                                                                                                                                                                                                                                                                                                                                                                                                                                                                                                                                                                                                                                                                                                                                                                                                                                                                                                                                                                                                                                                                                                                                                                                                                                                                                                                                                                                                                                                                                                                                                                                                                                                                                                                                                                                                                                                                                                                                                                                                                                                                                                                                                                                                                                                                                                                                                                                                                                                                                                                                                                                                                                                                                                                                                                                                                                                                                                                                                                                                                                                                                                                                                                                                                                                                                                                                                                                                                                                                                                                                                                                                                                                                                                                                                                                                                                                                                                                                                                                                                                                                                                                                                                                                                                                                                                                                                                                                                                                                                                                                                                                                                                                                                                                                                                                                                                                                0.000037\n",
              "I don't see how you could have a bad experience coming to Andele. My family of four goes there at least once a week, and we have never had anything less than a great experience. Ordering mixed drinks can turn out disappointing, but I can live with that for the service and food they excel at. For those complaining that their food wasn't warm enough, or they didn't get the service they thought they were entitled to, usually it's because they're miserable people anyways and just want somethings to bitch about, which is why they have an ungodly amount of reviews. I felt compelled to write this review because literally, while we were sitting at the table eating last night, I thought \"This is a restaurant and owner that deserves positive recognition\". Because I can honestly say it is one of the best dining experiences every time we go.                                                                                                                                                                                                                                                                                                                                                                                                                                                                                                                                                                                                                                                                                                                                                                                                                                                                                                                                                                                                                                                                                                                                                                                                                                                                                                                                                                                                                                                                                                                                                                                                                                                                                                                                                                                                                                                                                                                                                                                                                                                                                                                                                                                                                                                                                                                                                                                                                                                                                                                                                                                                                                                                                                                                                                                                                                                                                                                                                                                                                                                                                                                                                                                                                                                                                                                                                                                                                                                                                                                                                                                                                                                                                                                                                                                                                                                                                                                                                                                                                                                                                                                                                                                                                                                                                                                                                 0.000037\n",
              "Loved this place! My friend and I went here today for tea at 2, and had a great time. We had the elegant tea and used a groupon; we are the only people there but that isn't too surprising for any place in the middle of the week. Service was great, food was delicious, loved the tea, and we had a wonderful time!                                                                                                                                                                                                                                                                                                                                                                                                                                                                                                                                                                                                                                                                                                                                                                                                                                                                                                                                                                                                                                                                                                                                                                                                                                                                                                                                                                                                                                                                                                                                                                                                                                                                                                                                                                                                                                                                                                                                                                                                                                                                                                                                                                                                                                                                                                                                                                                                                                                                                                                                                                                                                                                                                                                                                                                                                                                                                                                                                                                                                                                                                                                                                                                                                                                                                                                                                                                                                                                                                                                                                                                                                                                                                                                                                                                                                                                                                                                                                                                                                                                                                                                                                                                                                                                                                                                                                                                                                                                                                                                                                                                                                                                                                                                                                                                                                                                                                                   0.000037\n",
              "Name: text, dtype: float64"
            ]
          },
          "metadata": {
            "tags": []
          },
          "execution_count": 8
        }
      ]
    },
    {
      "cell_type": "code",
      "metadata": {
        "id": "8NGjAZ6Xp1Kx",
        "colab_type": "code",
        "colab": {}
      },
      "source": [
        "df['tokens'] = df['text'].apply(tokenize)"
      ],
      "execution_count": 0,
      "outputs": []
    },
    {
      "cell_type": "code",
      "metadata": {
        "id": "XX8I-1N6p8ZW",
        "colab_type": "code",
        "colab": {
          "base_uri": "https://localhost:8080/",
          "height": 119
        },
        "outputId": "6c5517b9-efb2-4db1-a957-570fb8e6c894"
      },
      "source": [
        "df['tokens'].head()"
      ],
      "execution_count": 10,
      "outputs": [
        {
          "output_type": "execute_result",
          "data": {
            "text/plain": [
              "609090     [the, food, was, great, no, denying, that, im,...\n",
              "6460377    [delivered, as, promised, when, promised, exce...\n",
              "562100     [came, by, again, with, a, friend, just, to, h...\n",
              "5339718    [i, called, real, fast, auto, glass, to, get, ...\n",
              "2958710    [terrible, shuttle, service, pretty, good, ser...\n",
              "Name: tokens, dtype: object"
            ]
          },
          "metadata": {
            "tags": []
          },
          "execution_count": 10
        }
      ]
    },
    {
      "cell_type": "markdown",
      "metadata": {
        "id": "NX8qN0gjqHcj",
        "colab_type": "text"
      },
      "source": [
        "# Analyzing Tokens "
      ]
    },
    {
      "cell_type": "code",
      "metadata": {
        "id": "IT-i9pofqE_8",
        "colab_type": "code",
        "colab": {
          "base_uri": "https://localhost:8080/",
          "height": 187
        },
        "outputId": "5f3e314d-2cac-4ea5-ea26-1d7a1dc2a1f1"
      },
      "source": [
        "# Object from Base Python\n",
        "from collections import Counter\n",
        "\n",
        "# The object `Counter` takes an iterable, but you can instaniate an empty one and update it. \n",
        "word_counts = Counter()\n",
        "\n",
        "# Update it based on a split of each of our documents\n",
        "df['tokens'].apply(lambda x: word_counts.update(x))\n",
        "\n",
        "# Print out the 10 most common words\n",
        "word_counts.most_common(10)"
      ],
      "execution_count": 11,
      "outputs": [
        {
          "output_type": "execute_result",
          "data": {
            "text/plain": [
              "[('the', 144851),\n",
              " ('and', 103697),\n",
              " ('i', 77007),\n",
              " ('a', 74840),\n",
              " ('to', 72907),\n",
              " ('was', 52204),\n",
              " ('of', 42308),\n",
              " ('is', 36005),\n",
              " ('it', 35997),\n",
              " ('for', 35292)]"
            ]
          },
          "metadata": {
            "tags": []
          },
          "execution_count": 11
        }
      ]
    },
    {
      "cell_type": "markdown",
      "metadata": {
        "id": "1WPBW70kqzf_",
        "colab_type": "text"
      },
      "source": [
        "## Create a fuction which takes a corpus of document and returns a dataframe of word counts for us to analyze."
      ]
    },
    {
      "cell_type": "code",
      "metadata": {
        "id": "bJecOd76qFK5",
        "colab_type": "code",
        "colab": {}
      },
      "source": [
        "def count(docs):\n",
        "\n",
        "        word_counts = Counter()\n",
        "        appears_in = Counter()\n",
        "        \n",
        "        total_docs = len(docs)\n",
        "\n",
        "        for doc in docs:\n",
        "            word_counts.update(doc)\n",
        "            appears_in.update(set(doc))\n",
        "\n",
        "        temp = zip(word_counts.keys(), word_counts.values())\n",
        "        \n",
        "        wc = pd.DataFrame(temp, columns = ['word', 'count'])\n",
        "\n",
        "        wc['rank'] = wc['count'].rank(method='first', ascending=False)\n",
        "        total = wc['count'].sum()\n",
        "\n",
        "        wc['pct_total'] = wc['count'].apply(lambda x: x / total)\n",
        "        \n",
        "        wc = wc.sort_values(by='rank')\n",
        "        wc['cul_pct_total'] = wc['pct_total'].cumsum()\n",
        "\n",
        "        t2 = zip(appears_in.keys(), appears_in.values())\n",
        "        ac = pd.DataFrame(t2, columns=['word', 'appears_in'])\n",
        "        wc = ac.merge(wc, on='word')\n",
        "\n",
        "        wc['appears_in_pct'] = wc['appears_in'].apply(lambda x: x / total_docs)\n",
        "        \n",
        "        return wc.sort_values(by='rank')"
      ],
      "execution_count": 0,
      "outputs": []
    },
    {
      "cell_type": "code",
      "metadata": {
        "id": "mmkDZCOprYSP",
        "colab_type": "code",
        "colab": {}
      },
      "source": [
        "# Use the Function\n",
        "wc = count(df['tokens'])"
      ],
      "execution_count": 0,
      "outputs": []
    },
    {
      "cell_type": "code",
      "metadata": {
        "id": "6pYs3e6jreca",
        "colab_type": "code",
        "colab": {
          "base_uri": "https://localhost:8080/",
          "height": 204
        },
        "outputId": "03e17ee6-5807-43ae-af04-8c9ea9f07bba"
      },
      "source": [
        "wc.head()"
      ],
      "execution_count": 14,
      "outputs": [
        {
          "output_type": "execute_result",
          "data": {
            "text/html": [
              "<div>\n",
              "<style scoped>\n",
              "    .dataframe tbody tr th:only-of-type {\n",
              "        vertical-align: middle;\n",
              "    }\n",
              "\n",
              "    .dataframe tbody tr th {\n",
              "        vertical-align: top;\n",
              "    }\n",
              "\n",
              "    .dataframe thead th {\n",
              "        text-align: right;\n",
              "    }\n",
              "</style>\n",
              "<table border=\"1\" class=\"dataframe\">\n",
              "  <thead>\n",
              "    <tr style=\"text-align: right;\">\n",
              "      <th></th>\n",
              "      <th>word</th>\n",
              "      <th>appears_in</th>\n",
              "      <th>count</th>\n",
              "      <th>rank</th>\n",
              "      <th>pct_total</th>\n",
              "      <th>cul_pct_total</th>\n",
              "      <th>appears_in_pct</th>\n",
              "    </tr>\n",
              "  </thead>\n",
              "  <tbody>\n",
              "    <tr>\n",
              "      <th>11</th>\n",
              "      <td>the</td>\n",
              "      <td>23995</td>\n",
              "      <td>144851</td>\n",
              "      <td>1.0</td>\n",
              "      <td>0.049022</td>\n",
              "      <td>0.049022</td>\n",
              "      <td>0.897211</td>\n",
              "    </tr>\n",
              "    <tr>\n",
              "      <th>13</th>\n",
              "      <td>and</td>\n",
              "      <td>23906</td>\n",
              "      <td>103697</td>\n",
              "      <td>2.0</td>\n",
              "      <td>0.035094</td>\n",
              "      <td>0.084116</td>\n",
              "      <td>0.893883</td>\n",
              "    </tr>\n",
              "    <tr>\n",
              "      <th>0</th>\n",
              "      <td>i</td>\n",
              "      <td>19205</td>\n",
              "      <td>77007</td>\n",
              "      <td>3.0</td>\n",
              "      <td>0.026061</td>\n",
              "      <td>0.110177</td>\n",
              "      <td>0.718105</td>\n",
              "    </tr>\n",
              "    <tr>\n",
              "      <th>45</th>\n",
              "      <td>a</td>\n",
              "      <td>20899</td>\n",
              "      <td>74840</td>\n",
              "      <td>4.0</td>\n",
              "      <td>0.025328</td>\n",
              "      <td>0.135505</td>\n",
              "      <td>0.781446</td>\n",
              "    </tr>\n",
              "    <tr>\n",
              "      <th>50</th>\n",
              "      <td>to</td>\n",
              "      <td>20011</td>\n",
              "      <td>72907</td>\n",
              "      <td>5.0</td>\n",
              "      <td>0.024674</td>\n",
              "      <td>0.160179</td>\n",
              "      <td>0.748243</td>\n",
              "    </tr>\n",
              "  </tbody>\n",
              "</table>\n",
              "</div>"
            ],
            "text/plain": [
              "   word  appears_in   count  rank  pct_total  cul_pct_total  appears_in_pct\n",
              "11  the       23995  144851   1.0   0.049022       0.049022        0.897211\n",
              "13  and       23906  103697   2.0   0.035094       0.084116        0.893883\n",
              "0     i       19205   77007   3.0   0.026061       0.110177        0.718105\n",
              "45    a       20899   74840   4.0   0.025328       0.135505        0.781446\n",
              "50   to       20011   72907   5.0   0.024674       0.160179        0.748243"
            ]
          },
          "metadata": {
            "tags": []
          },
          "execution_count": 14
        }
      ]
    },
    {
      "cell_type": "markdown",
      "metadata": {
        "id": "FGXe69qpsXK4",
        "colab_type": "text"
      },
      "source": [
        "plot it"
      ]
    },
    {
      "cell_type": "code",
      "metadata": {
        "id": "wEwmzffesZVt",
        "colab_type": "code",
        "colab": {
          "base_uri": "https://localhost:8080/",
          "height": 279
        },
        "outputId": "ab93c929-d68d-47f2-f935-72bec3d8b222"
      },
      "source": [
        "# Cumulative Distribution Plot\n",
        "sns.lineplot(x='rank', y='cul_pct_total', data=wc);"
      ],
      "execution_count": 15,
      "outputs": [
        {
          "output_type": "display_data",
          "data": {
            "image/png": "[encoded data removed]",
            "text/plain": [
              "<Figure size 432x288 with 1 Axes>"
            ]
          },
          "metadata": {
            "tags": []
          }
        }
      ]
    },
    {
      "cell_type": "code",
      "metadata": {
        "id": "M1e8p6GAsnla",
        "colab_type": "code",
        "colab": {
          "base_uri": "https://localhost:8080/",
          "height": 34
        },
        "outputId": "ee4ada69-0695-4381-9e27-b896c1c63d5e"
      },
      "source": [
        "wc[wc['rank'] <= 20]['cul_pct_total'].max()"
      ],
      "execution_count": 16,
      "outputs": [
        {
          "output_type": "execute_result",
          "data": {
            "text/plain": [
              "0.31196335763365146"
            ]
          },
          "metadata": {
            "tags": []
          },
          "execution_count": 16
        }
      ]
    },
    {
      "cell_type": "code",
      "metadata": {
        "id": "msRCoHQKtHci",
        "colab_type": "code",
        "colab": {
          "base_uri": "https://localhost:8080/",
          "height": 248
        },
        "outputId": "6bcc4fe7-412d-4758-d544-20265353661d"
      },
      "source": [
        "# Without Stop Words \n",
        "wc_top20 = wc[wc['rank'] <= 20]\n",
        "\n",
        "squarify.plot(sizes=wc_top20['pct_total'], label=wc_top20['word'], alpha=.8 )\n",
        "plt.axis('off')\n",
        "plt.show()"
      ],
      "execution_count": 17,
      "outputs": [
        {
          "output_type": "display_data",
          "data": {
            "image/png": "[encoded data removed]",
            "text/plain": [
              "<Figure size 432x288 with 1 Axes>"
            ]
          },
          "metadata": {
            "tags": []
          }
        }
      ]
    },
    {
      "cell_type": "markdown",
      "metadata": {
        "id": "dS52yLMPtORS",
        "colab_type": "text"
      },
      "source": [
        "# Process the text with Spacy"
      ]
    },
    {
      "cell_type": "code",
      "metadata": {
        "id": "5WrGgnCjtSgV",
        "colab_type": "code",
        "colab": {}
      },
      "source": [
        "# nlp = spacy.load(\"en_core_web_md\")\n",
        "\n",
        "# Tokenizer\n",
        "tokenizer = Tokenizer(nlp.vocab)"
      ],
      "execution_count": 0,
      "outputs": []
    },
    {
      "cell_type": "code",
      "metadata": {
        "id": "y2t9gAVotcdG",
        "colab_type": "code",
        "colab": {}
      },
      "source": [
        "# Tokenizer Pipe\n",
        "\n",
        "tokens = []\n",
        "\n",
        "\"\"\" Make them tokens \"\"\"\n",
        "for doc in tokenizer.pipe(df['text'], batch_size=500):\n",
        "    doc_tokens = [token.text for token in doc]\n",
        "    tokens.append(doc_tokens)\n",
        "\n",
        "df['tokens'] = tokens"
      ],
      "execution_count": 0,
      "outputs": []
    },
    {
      "cell_type": "code",
      "metadata": {
        "id": "7gKTK3K-uJdV",
        "colab_type": "code",
        "colab": {
          "base_uri": "https://localhost:8080/",
          "height": 119
        },
        "outputId": "042acbf5-ffdc-47fb-e8c1-7ab4f1ce8a7b"
      },
      "source": [
        "df['tokens'].head()"
      ],
      "execution_count": 20,
      "outputs": [
        {
          "output_type": "execute_result",
          "data": {
            "text/plain": [
              "609090     [The, food, was, great, no, denying, that., I'...\n",
              "6460377    [Delivered, as, promised,, when, promised!, \\n...\n",
              "562100     [Came, by, again, with, a, friend, just, to, h...\n",
              "5339718    [I, called, Real, Fast, Auto, Glass, to, get, ...\n",
              "2958710    [Terrible, shuttle, service,, pretty, good, se...\n",
              "Name: tokens, dtype: object"
            ]
          },
          "metadata": {
            "tags": []
          },
          "execution_count": 20
        }
      ]
    },
    {
      "cell_type": "code",
      "metadata": {
        "id": "_9zps4_juRp1",
        "colab_type": "code",
        "colab": {}
      },
      "source": [
        "wc = count(df['tokens'])"
      ],
      "execution_count": 0,
      "outputs": []
    },
    {
      "cell_type": "code",
      "metadata": {
        "id": "19zk0TpNuT1_",
        "colab_type": "code",
        "colab": {
          "base_uri": "https://localhost:8080/",
          "height": 204
        },
        "outputId": "3f2da509-798c-4fee-c31c-32ba4b273706"
      },
      "source": [
        "wc.head()"
      ],
      "execution_count": 22,
      "outputs": [
        {
          "output_type": "execute_result",
          "data": {
            "text/html": [
              "<div>\n",
              "<style scoped>\n",
              "    .dataframe tbody tr th:only-of-type {\n",
              "        vertical-align: middle;\n",
              "    }\n",
              "\n",
              "    .dataframe tbody tr th {\n",
              "        vertical-align: top;\n",
              "    }\n",
              "\n",
              "    .dataframe thead th {\n",
              "        text-align: right;\n",
              "    }\n",
              "</style>\n",
              "<table border=\"1\" class=\"dataframe\">\n",
              "  <thead>\n",
              "    <tr style=\"text-align: right;\">\n",
              "      <th></th>\n",
              "      <th>word</th>\n",
              "      <th>appears_in</th>\n",
              "      <th>count</th>\n",
              "      <th>rank</th>\n",
              "      <th>pct_total</th>\n",
              "      <th>cul_pct_total</th>\n",
              "      <th>appears_in_pct</th>\n",
              "    </tr>\n",
              "  </thead>\n",
              "  <tbody>\n",
              "    <tr>\n",
              "      <th>11</th>\n",
              "      <td>the</td>\n",
              "      <td>23149</td>\n",
              "      <td>120947</td>\n",
              "      <td>1.0</td>\n",
              "      <td>0.039488</td>\n",
              "      <td>0.039488</td>\n",
              "      <td>0.865577</td>\n",
              "    </tr>\n",
              "    <tr>\n",
              "      <th>13</th>\n",
              "      <td>and</td>\n",
              "      <td>23786</td>\n",
              "      <td>100989</td>\n",
              "      <td>2.0</td>\n",
              "      <td>0.032972</td>\n",
              "      <td>0.072459</td>\n",
              "      <td>0.889396</td>\n",
              "    </tr>\n",
              "    <tr>\n",
              "      <th>18</th>\n",
              "      <td>I</td>\n",
              "      <td>18973</td>\n",
              "      <td>76232</td>\n",
              "      <td>3.0</td>\n",
              "      <td>0.024889</td>\n",
              "      <td>0.097348</td>\n",
              "      <td>0.709430</td>\n",
              "    </tr>\n",
              "    <tr>\n",
              "      <th>50</th>\n",
              "      <td>a</td>\n",
              "      <td>20663</td>\n",
              "      <td>72857</td>\n",
              "      <td>4.0</td>\n",
              "      <td>0.023787</td>\n",
              "      <td>0.121135</td>\n",
              "      <td>0.772622</td>\n",
              "    </tr>\n",
              "    <tr>\n",
              "      <th>55</th>\n",
              "      <td>to</td>\n",
              "      <td>19919</td>\n",
              "      <td>71803</td>\n",
              "      <td>5.0</td>\n",
              "      <td>0.023443</td>\n",
              "      <td>0.144578</td>\n",
              "      <td>0.744803</td>\n",
              "    </tr>\n",
              "  </tbody>\n",
              "</table>\n",
              "</div>"
            ],
            "text/plain": [
              "   word  appears_in   count  rank  pct_total  cul_pct_total  appears_in_pct\n",
              "11  the       23149  120947   1.0   0.039488       0.039488        0.865577\n",
              "13  and       23786  100989   2.0   0.032972       0.072459        0.889396\n",
              "18    I       18973   76232   3.0   0.024889       0.097348        0.709430\n",
              "50    a       20663   72857   4.0   0.023787       0.121135        0.772622\n",
              "55   to       19919   71803   5.0   0.023443       0.144578        0.744803"
            ]
          },
          "metadata": {
            "tags": []
          },
          "execution_count": 22
        }
      ]
    },
    {
      "cell_type": "code",
      "metadata": {
        "id": "JRSoxMClucSF",
        "colab_type": "code",
        "colab": {
          "base_uri": "https://localhost:8080/",
          "height": 248
        },
        "outputId": "e9136cf8-954c-4b90-e70a-2a88e55d304b"
      },
      "source": [
        "wc_top20 = wc[wc['rank'] <= 20]\n",
        "\n",
        "squarify.plot(sizes=wc_top20['pct_total'], label=wc_top20['word'], alpha=.8 )\n",
        "plt.axis('off')\n",
        "plt.show()"
      ],
      "execution_count": 23,
      "outputs": [
        {
          "output_type": "display_data",
          "data": {
            "image/png": "[encoded data removed]",
            "text/plain": [
              "<Figure size 432x288 with 1 Axes>"
            ]
          },
          "metadata": {
            "tags": []
          }
        }
      ]
    },
    {
      "cell_type": "markdown",
      "metadata": {
        "id": "gn6r_xJvuv_u",
        "colab_type": "text"
      },
      "source": [
        "## Impliment Stop Words "
      ]
    },
    {
      "cell_type": "code",
      "metadata": {
        "id": "tbXWgs4Tu7rj",
        "colab_type": "code",
        "colab": {}
      },
      "source": [
        "tokens = []\n",
        "\n",
        "\"\"\" Update those tokens w/o stopwords\"\"\"\n",
        "for doc in tokenizer.pipe(df['text'], batch_size=500):\n",
        "    \n",
        "    doc_tokens = []\n",
        "    \n",
        "    for token in doc:\n",
        "        if (token.is_stop == False) & (token.is_punct == False):\n",
        "            doc_tokens.append(token.text.lower())\n",
        "\n",
        "    tokens.append(doc_tokens)\n",
        "\n",
        "df['tokens'] = tokens"
      ],
      "execution_count": 0,
      "outputs": []
    },
    {
      "cell_type": "code",
      "metadata": {
        "id": "FVvPhD39v1qs",
        "colab_type": "code",
        "colab": {
          "base_uri": "https://localhost:8080/",
          "height": 119
        },
        "outputId": "2bb6db27-b00c-4143-c197-ca86e08ef800"
      },
      "source": [
        "df.tokens.head()"
      ],
      "execution_count": 25,
      "outputs": [
        {
          "output_type": "execute_result",
          "data": {
            "text/plain": [
              "609090     [food, great, denying, that., i'm, trying, cut...\n",
              "6460377    [delivered, promised,, promised!, \\n , excelle...\n",
              "562100     [came, friend, hang, out., like, fixed, proble...\n",
              "5339718    [called, real, fast, auto, glass, windshield, ...\n",
              "2958710    [terrible, shuttle, service,, pretty, good, se...\n",
              "Name: tokens, dtype: object"
            ]
          },
          "metadata": {
            "tags": []
          },
          "execution_count": 25
        }
      ]
    },
    {
      "cell_type": "code",
      "metadata": {
        "id": "HXoN8qfzwLEf",
        "colab_type": "code",
        "colab": {
          "base_uri": "https://localhost:8080/",
          "height": 248
        },
        "outputId": "b430511b-2076-43b6-e3bb-94f8fa9f1e3d"
      },
      "source": [
        "wc = count(df['tokens'])\n",
        "\n",
        "wc_top20 = wc[wc['rank'] <= 20]\n",
        "\n",
        "squarify.plot(sizes=wc_top20['pct_total'], label=wc_top20['word'], alpha=.8 )\n",
        "plt.axis('off')\n",
        "plt.show();"
      ],
      "execution_count": 28,
      "outputs": [
        {
          "output_type": "display_data",
          "data": {
            "image/png": "[encoded data removed]",
            "text/plain": [
              "<Figure size 432x288 with 1 Axes>"
            ]
          },
          "metadata": {
            "tags": []
          }
        }
      ]
    },
    {
      "cell_type": "code",
      "metadata": {
        "id": "X_TgzpMMwsA8",
        "colab_type": "code",
        "colab": {}
      },
      "source": [
        "STOP_WORDS = nlp.Defaults.stop_words.union(['I', 'i', 'it', \"it's\", 'it.', 'the', 'this',])"
      ],
      "execution_count": 0,
      "outputs": []
    },
    {
      "cell_type": "code",
      "metadata": {
        "id": "nNEQ1qZzwzWs",
        "colab_type": "code",
        "colab": {
          "base_uri": "https://localhost:8080/",
          "height": 1000
        },
        "outputId": "5cc98d7a-fd9f-41f5-c737-3a8c6980aeff"
      },
      "source": [
        "STOP_WORDS"
      ],
      "execution_count": 30,
      "outputs": [
        {
          "output_type": "execute_result",
          "data": {
            "text/plain": [
              "{\"'d\",\n",
              " \"'ll\",\n",
              " \"'m\",\n",
              " \"'re\",\n",
              " \"'s\",\n",
              " \"'ve\",\n",
              " 'I',\n",
              " 'a',\n",
              " 'about',\n",
              " 'above',\n",
              " 'across',\n",
              " 'after',\n",
              " 'afterwards',\n",
              " 'again',\n",
              " 'against',\n",
              " 'all',\n",
              " 'almost',\n",
              " 'alone',\n",
              " 'along',\n",
              " 'already',\n",
              " 'also',\n",
              " 'although',\n",
              " 'always',\n",
              " 'am',\n",
              " 'among',\n",
              " 'amongst',\n",
              " 'amount',\n",
              " 'an',\n",
              " 'and',\n",
              " 'another',\n",
              " 'any',\n",
              " 'anyhow',\n",
              " 'anyone',\n",
              " 'anything',\n",
              " 'anyway',\n",
              " 'anywhere',\n",
              " 'are',\n",
              " 'around',\n",
              " 'as',\n",
              " 'at',\n",
              " 'back',\n",
              " 'be',\n",
              " 'became',\n",
              " 'because',\n",
              " 'become',\n",
              " 'becomes',\n",
              " 'becoming',\n",
              " 'been',\n",
              " 'before',\n",
              " 'beforehand',\n",
              " 'behind',\n",
              " 'being',\n",
              " 'below',\n",
              " 'beside',\n",
              " 'besides',\n",
              " 'between',\n",
              " 'beyond',\n",
              " 'both',\n",
              " 'bottom',\n",
              " 'but',\n",
              " 'by',\n",
              " 'ca',\n",
              " 'call',\n",
              " 'can',\n",
              " 'cannot',\n",
              " 'could',\n",
              " 'did',\n",
              " 'do',\n",
              " 'does',\n",
              " 'doing',\n",
              " 'done',\n",
              " 'down',\n",
              " 'due',\n",
              " 'during',\n",
              " 'each',\n",
              " 'eight',\n",
              " 'either',\n",
              " 'eleven',\n",
              " 'else',\n",
              " 'elsewhere',\n",
              " 'empty',\n",
              " 'enough',\n",
              " 'even',\n",
              " 'ever',\n",
              " 'every',\n",
              " 'everyone',\n",
              " 'everything',\n",
              " 'everywhere',\n",
              " 'except',\n",
              " 'few',\n",
              " 'fifteen',\n",
              " 'fifty',\n",
              " 'first',\n",
              " 'five',\n",
              " 'for',\n",
              " 'former',\n",
              " 'formerly',\n",
              " 'forty',\n",
              " 'four',\n",
              " 'from',\n",
              " 'front',\n",
              " 'full',\n",
              " 'further',\n",
              " 'get',\n",
              " 'give',\n",
              " 'go',\n",
              " 'had',\n",
              " 'has',\n",
              " 'have',\n",
              " 'he',\n",
              " 'hence',\n",
              " 'her',\n",
              " 'here',\n",
              " 'hereafter',\n",
              " 'hereby',\n",
              " 'herein',\n",
              " 'hereupon',\n",
              " 'hers',\n",
              " 'herself',\n",
              " 'him',\n",
              " 'himself',\n",
              " 'his',\n",
              " 'how',\n",
              " 'however',\n",
              " 'hundred',\n",
              " 'i',\n",
              " 'if',\n",
              " 'in',\n",
              " 'indeed',\n",
              " 'into',\n",
              " 'is',\n",
              " 'it',\n",
              " \"it's\",\n",
              " 'it.',\n",
              " 'its',\n",
              " 'itself',\n",
              " 'just',\n",
              " 'keep',\n",
              " 'last',\n",
              " 'latter',\n",
              " 'latterly',\n",
              " 'least',\n",
              " 'less',\n",
              " 'made',\n",
              " 'make',\n",
              " 'many',\n",
              " 'may',\n",
              " 'me',\n",
              " 'meanwhile',\n",
              " 'might',\n",
              " 'mine',\n",
              " 'more',\n",
              " 'moreover',\n",
              " 'most',\n",
              " 'mostly',\n",
              " 'move',\n",
              " 'much',\n",
              " 'must',\n",
              " 'my',\n",
              " 'myself',\n",
              " \"n't\",\n",
              " 'name',\n",
              " 'namely',\n",
              " 'neither',\n",
              " 'never',\n",
              " 'nevertheless',\n",
              " 'next',\n",
              " 'nine',\n",
              " 'no',\n",
              " 'nobody',\n",
              " 'none',\n",
              " 'noone',\n",
              " 'nor',\n",
              " 'not',\n",
              " 'nothing',\n",
              " 'now',\n",
              " 'nowhere',\n",
              " 'n‘t',\n",
              " 'n’t',\n",
              " 'of',\n",
              " 'off',\n",
              " 'often',\n",
              " 'on',\n",
              " 'once',\n",
              " 'one',\n",
              " 'only',\n",
              " 'onto',\n",
              " 'or',\n",
              " 'other',\n",
              " 'others',\n",
              " 'otherwise',\n",
              " 'our',\n",
              " 'ours',\n",
              " 'ourselves',\n",
              " 'out',\n",
              " 'over',\n",
              " 'own',\n",
              " 'part',\n",
              " 'per',\n",
              " 'perhaps',\n",
              " 'please',\n",
              " 'put',\n",
              " 'quite',\n",
              " 'rather',\n",
              " 're',\n",
              " 'really',\n",
              " 'regarding',\n",
              " 'same',\n",
              " 'say',\n",
              " 'see',\n",
              " 'seem',\n",
              " 'seemed',\n",
              " 'seeming',\n",
              " 'seems',\n",
              " 'serious',\n",
              " 'several',\n",
              " 'she',\n",
              " 'should',\n",
              " 'show',\n",
              " 'side',\n",
              " 'since',\n",
              " 'six',\n",
              " 'sixty',\n",
              " 'so',\n",
              " 'some',\n",
              " 'somehow',\n",
              " 'someone',\n",
              " 'something',\n",
              " 'sometime',\n",
              " 'sometimes',\n",
              " 'somewhere',\n",
              " 'still',\n",
              " 'such',\n",
              " 'take',\n",
              " 'ten',\n",
              " 'than',\n",
              " 'that',\n",
              " 'the',\n",
              " 'their',\n",
              " 'them',\n",
              " 'themselves',\n",
              " 'then',\n",
              " 'thence',\n",
              " 'there',\n",
              " 'thereafter',\n",
              " 'thereby',\n",
              " 'therefore',\n",
              " 'therein',\n",
              " 'thereupon',\n",
              " 'these',\n",
              " 'they',\n",
              " 'third',\n",
              " 'this',\n",
              " 'those',\n",
              " 'though',\n",
              " 'three',\n",
              " 'through',\n",
              " 'throughout',\n",
              " 'thru',\n",
              " 'thus',\n",
              " 'to',\n",
              " 'together',\n",
              " 'too',\n",
              " 'top',\n",
              " 'toward',\n",
              " 'towards',\n",
              " 'twelve',\n",
              " 'twenty',\n",
              " 'two',\n",
              " 'under',\n",
              " 'unless',\n",
              " 'until',\n",
              " 'up',\n",
              " 'upon',\n",
              " 'us',\n",
              " 'used',\n",
              " 'using',\n",
              " 'various',\n",
              " 'very',\n",
              " 'via',\n",
              " 'was',\n",
              " 'we',\n",
              " 'well',\n",
              " 'were',\n",
              " 'what',\n",
              " 'whatever',\n",
              " 'when',\n",
              " 'whence',\n",
              " 'whenever',\n",
              " 'where',\n",
              " 'whereafter',\n",
              " 'whereas',\n",
              " 'whereby',\n",
              " 'wherein',\n",
              " 'whereupon',\n",
              " 'wherever',\n",
              " 'whether',\n",
              " 'which',\n",
              " 'while',\n",
              " 'whither',\n",
              " 'who',\n",
              " 'whoever',\n",
              " 'whole',\n",
              " 'whom',\n",
              " 'whose',\n",
              " 'why',\n",
              " 'will',\n",
              " 'with',\n",
              " 'within',\n",
              " 'without',\n",
              " 'would',\n",
              " 'yet',\n",
              " 'you',\n",
              " 'your',\n",
              " 'yours',\n",
              " 'yourself',\n",
              " 'yourselves',\n",
              " '‘d',\n",
              " '‘ll',\n",
              " '‘m',\n",
              " '‘re',\n",
              " '‘s',\n",
              " '‘ve',\n",
              " '’d',\n",
              " '’ll',\n",
              " '’m',\n",
              " '’re',\n",
              " '’s',\n",
              " '’ve'}"
            ]
          },
          "metadata": {
            "tags": []
          },
          "execution_count": 30
        }
      ]
    },
    {
      "cell_type": "code",
      "metadata": {
        "id": "m9SFnsWWxLXe",
        "colab_type": "code",
        "colab": {}
      },
      "source": [
        "tokens = []\n",
        "\n",
        "for doc in tokenizer.pipe(df['text'], batch_size=500):\n",
        "    \n",
        "    doc_tokens = []\n",
        "    \n",
        "    for token in doc: \n",
        "        if token.text not in STOP_WORDS:\n",
        "            doc_tokens.append(token.text.lower())\n",
        "   \n",
        "    tokens.append(doc_tokens)\n",
        "    \n",
        "df['tokens'] = tokens"
      ],
      "execution_count": 0,
      "outputs": []
    },
    {
      "cell_type": "code",
      "metadata": {
        "id": "FmbFWSlixxzP",
        "colab_type": "code",
        "colab": {
          "base_uri": "https://localhost:8080/",
          "height": 204
        },
        "outputId": "5745a7d2-e83a-4d6b-9beb-8529ea07b6c6"
      },
      "source": [
        "wc = count(df['tokens'])\n",
        "wc.head()"
      ],
      "execution_count": 32,
      "outputs": [
        {
          "output_type": "execute_result",
          "data": {
            "text/html": [
              "<div>\n",
              "<style scoped>\n",
              "    .dataframe tbody tr th:only-of-type {\n",
              "        vertical-align: middle;\n",
              "    }\n",
              "\n",
              "    .dataframe tbody tr th {\n",
              "        vertical-align: top;\n",
              "    }\n",
              "\n",
              "    .dataframe thead th {\n",
              "        text-align: right;\n",
              "    }\n",
              "</style>\n",
              "<table border=\"1\" class=\"dataframe\">\n",
              "  <thead>\n",
              "    <tr style=\"text-align: right;\">\n",
              "      <th></th>\n",
              "      <th>word</th>\n",
              "      <th>appears_in</th>\n",
              "      <th>count</th>\n",
              "      <th>rank</th>\n",
              "      <th>pct_total</th>\n",
              "      <th>cul_pct_total</th>\n",
              "      <th>appears_in_pct</th>\n",
              "    </tr>\n",
              "  </thead>\n",
              "  <tbody>\n",
              "    <tr>\n",
              "      <th>275</th>\n",
              "      <td></td>\n",
              "      <td>9003</td>\n",
              "      <td>39118</td>\n",
              "      <td>1.0</td>\n",
              "      <td>0.024199</td>\n",
              "      <td>0.024199</td>\n",
              "      <td>0.336636</td>\n",
              "    </tr>\n",
              "    <tr>\n",
              "      <th>6</th>\n",
              "      <td>the</td>\n",
              "      <td>13413</td>\n",
              "      <td>25846</td>\n",
              "      <td>2.0</td>\n",
              "      <td>0.015989</td>\n",
              "      <td>0.040188</td>\n",
              "      <td>0.501533</td>\n",
              "    </tr>\n",
              "    <tr>\n",
              "      <th>64</th>\n",
              "      <td>\\n\\n</td>\n",
              "      <td>7902</td>\n",
              "      <td>22641</td>\n",
              "      <td>3.0</td>\n",
              "      <td>0.014006</td>\n",
              "      <td>0.054194</td>\n",
              "      <td>0.295468</td>\n",
              "    </tr>\n",
              "    <tr>\n",
              "      <th>5</th>\n",
              "      <td>food</td>\n",
              "      <td>7362</td>\n",
              "      <td>10242</td>\n",
              "      <td>4.0</td>\n",
              "      <td>0.006336</td>\n",
              "      <td>0.060530</td>\n",
              "      <td>0.275277</td>\n",
              "    </tr>\n",
              "    <tr>\n",
              "      <th>233</th>\n",
              "      <td>place</td>\n",
              "      <td>7539</td>\n",
              "      <td>10187</td>\n",
              "      <td>5.0</td>\n",
              "      <td>0.006302</td>\n",
              "      <td>0.066832</td>\n",
              "      <td>0.281895</td>\n",
              "    </tr>\n",
              "  </tbody>\n",
              "</table>\n",
              "</div>"
            ],
            "text/plain": [
              "      word  appears_in  count  rank  pct_total  cul_pct_total  appears_in_pct\n",
              "275               9003  39118   1.0   0.024199       0.024199        0.336636\n",
              "6      the       13413  25846   2.0   0.015989       0.040188        0.501533\n",
              "64    \\n\\n        7902  22641   3.0   0.014006       0.054194        0.295468\n",
              "5     food        7362  10242   4.0   0.006336       0.060530        0.275277\n",
              "233  place        7539  10187   5.0   0.006302       0.066832        0.281895"
            ]
          },
          "metadata": {
            "tags": []
          },
          "execution_count": 32
        }
      ]
    },
    {
      "cell_type": "code",
      "metadata": {
        "id": "6XZjp7ZzyB5N",
        "colab_type": "code",
        "colab": {
          "base_uri": "https://localhost:8080/",
          "height": 248
        },
        "outputId": "d8305404-4e68-49ae-84bf-cb60eda20b9d"
      },
      "source": [
        "wc_top20 = wc[wc['rank'] <= 20]\n",
        "\n",
        "squarify.plot(sizes=wc_top20['pct_total'], label=wc_top20['word'], alpha=.8 )\n",
        "plt.axis('off')\n",
        "plt.show()"
      ],
      "execution_count": 33,
      "outputs": [
        {
          "output_type": "display_data",
          "data": {
            "image/png": "[encoded data removed]",
            "text/plain": [
              "<Figure size 432x288 with 1 Axes>"
            ]
          },
          "metadata": {
            "tags": []
          }
        }
      ]
    },
    {
      "cell_type": "code",
      "metadata": {
        "id": "M-sArIHd1HFW",
        "colab_type": "code",
        "colab": {
          "base_uri": "https://localhost:8080/",
          "height": 279
        },
        "outputId": "07328e9d-add1-4b04-b9fb-ea87f4cde50e"
      },
      "source": [
        "sns.lineplot(x='rank', y='cul_pct_total', data=wc);"
      ],
      "execution_count": 34,
      "outputs": [
        {
          "output_type": "display_data",
          "data": {
            "image/png": "[encoded data removed]",
            "text/plain": [
              "<Figure size 432x288 with 1 Axes>"
            ]
          },
          "metadata": {
            "tags": []
          }
        }
      ]
    },
    {
      "cell_type": "code",
      "metadata": {
        "id": "h0_rrIxR1bEs",
        "colab_type": "code",
        "colab": {
          "base_uri": "https://localhost:8080/",
          "height": 1000
        },
        "outputId": "5b5ce646-600a-43a7-a509-f277303f3315"
      },
      "source": [
        "wc.head(50)"
      ],
      "execution_count": 35,
      "outputs": [
        {
          "output_type": "execute_result",
          "data": {
            "text/html": [
              "<div>\n",
              "<style scoped>\n",
              "    .dataframe tbody tr th:only-of-type {\n",
              "        vertical-align: middle;\n",
              "    }\n",
              "\n",
              "    .dataframe tbody tr th {\n",
              "        vertical-align: top;\n",
              "    }\n",
              "\n",
              "    .dataframe thead th {\n",
              "        text-align: right;\n",
              "    }\n",
              "</style>\n",
              "<table border=\"1\" class=\"dataframe\">\n",
              "  <thead>\n",
              "    <tr style=\"text-align: right;\">\n",
              "      <th></th>\n",
              "      <th>word</th>\n",
              "      <th>appears_in</th>\n",
              "      <th>count</th>\n",
              "      <th>rank</th>\n",
              "      <th>pct_total</th>\n",
              "      <th>cul_pct_total</th>\n",
              "      <th>appears_in_pct</th>\n",
              "    </tr>\n",
              "  </thead>\n",
              "  <tbody>\n",
              "    <tr>\n",
              "      <th>275</th>\n",
              "      <td></td>\n",
              "      <td>9003</td>\n",
              "      <td>39118</td>\n",
              "      <td>1.0</td>\n",
              "      <td>0.024199</td>\n",
              "      <td>0.024199</td>\n",
              "      <td>0.336636</td>\n",
              "    </tr>\n",
              "    <tr>\n",
              "      <th>6</th>\n",
              "      <td>the</td>\n",
              "      <td>13413</td>\n",
              "      <td>25846</td>\n",
              "      <td>2.0</td>\n",
              "      <td>0.015989</td>\n",
              "      <td>0.040188</td>\n",
              "      <td>0.501533</td>\n",
              "    </tr>\n",
              "    <tr>\n",
              "      <th>64</th>\n",
              "      <td>\\n\\n</td>\n",
              "      <td>7902</td>\n",
              "      <td>22641</td>\n",
              "      <td>3.0</td>\n",
              "      <td>0.014006</td>\n",
              "      <td>0.054194</td>\n",
              "      <td>0.295468</td>\n",
              "    </tr>\n",
              "    <tr>\n",
              "      <th>5</th>\n",
              "      <td>food</td>\n",
              "      <td>7362</td>\n",
              "      <td>10242</td>\n",
              "      <td>4.0</td>\n",
              "      <td>0.006336</td>\n",
              "      <td>0.060530</td>\n",
              "      <td>0.275277</td>\n",
              "    </tr>\n",
              "    <tr>\n",
              "      <th>233</th>\n",
              "      <td>place</td>\n",
              "      <td>7539</td>\n",
              "      <td>10187</td>\n",
              "      <td>5.0</td>\n",
              "      <td>0.006302</td>\n",
              "      <td>0.066832</td>\n",
              "      <td>0.281895</td>\n",
              "    </tr>\n",
              "    <tr>\n",
              "      <th>8</th>\n",
              "      <td>great</td>\n",
              "      <td>7082</td>\n",
              "      <td>9377</td>\n",
              "      <td>6.0</td>\n",
              "      <td>0.005801</td>\n",
              "      <td>0.072633</td>\n",
              "      <td>0.264807</td>\n",
              "    </tr>\n",
              "    <tr>\n",
              "      <th>27</th>\n",
              "      <td>\\n</td>\n",
              "      <td>3325</td>\n",
              "      <td>9168</td>\n",
              "      <td>7.0</td>\n",
              "      <td>0.005672</td>\n",
              "      <td>0.078305</td>\n",
              "      <td>0.124327</td>\n",
              "    </tr>\n",
              "    <tr>\n",
              "      <th>60</th>\n",
              "      <td>like</td>\n",
              "      <td>6454</td>\n",
              "      <td>9144</td>\n",
              "      <td>8.0</td>\n",
              "      <td>0.005657</td>\n",
              "      <td>0.083961</td>\n",
              "      <td>0.241325</td>\n",
              "    </tr>\n",
              "    <tr>\n",
              "      <th>871</th>\n",
              "      <td>we</td>\n",
              "      <td>5468</td>\n",
              "      <td>9020</td>\n",
              "      <td>9.0</td>\n",
              "      <td>0.005580</td>\n",
              "      <td>0.089541</td>\n",
              "      <td>0.204457</td>\n",
              "    </tr>\n",
              "    <tr>\n",
              "      <th>213</th>\n",
              "      <td>good</td>\n",
              "      <td>6559</td>\n",
              "      <td>8682</td>\n",
              "      <td>10.0</td>\n",
              "      <td>0.005371</td>\n",
              "      <td>0.094912</td>\n",
              "      <td>0.245251</td>\n",
              "    </tr>\n",
              "    <tr>\n",
              "      <th>39</th>\n",
              "      <td>service</td>\n",
              "      <td>5912</td>\n",
              "      <td>6888</td>\n",
              "      <td>11.0</td>\n",
              "      <td>0.004261</td>\n",
              "      <td>0.099173</td>\n",
              "      <td>0.221059</td>\n",
              "    </tr>\n",
              "    <tr>\n",
              "      <th>175</th>\n",
              "      <td>time</td>\n",
              "      <td>5315</td>\n",
              "      <td>6769</td>\n",
              "      <td>12.0</td>\n",
              "      <td>0.004187</td>\n",
              "      <td>0.103361</td>\n",
              "      <td>0.198736</td>\n",
              "    </tr>\n",
              "    <tr>\n",
              "      <th>203</th>\n",
              "      <td>they</td>\n",
              "      <td>5104</td>\n",
              "      <td>6750</td>\n",
              "      <td>13.0</td>\n",
              "      <td>0.004176</td>\n",
              "      <td>0.107537</td>\n",
              "      <td>0.190847</td>\n",
              "    </tr>\n",
              "    <tr>\n",
              "      <th>296</th>\n",
              "      <td>this</td>\n",
              "      <td>4922</td>\n",
              "      <td>5715</td>\n",
              "      <td>14.0</td>\n",
              "      <td>0.003535</td>\n",
              "      <td>0.111072</td>\n",
              "      <td>0.184041</td>\n",
              "    </tr>\n",
              "    <tr>\n",
              "      <th>58</th>\n",
              "      <td>it</td>\n",
              "      <td>4373</td>\n",
              "      <td>5650</td>\n",
              "      <td>15.0</td>\n",
              "      <td>0.003495</td>\n",
              "      <td>0.114567</td>\n",
              "      <td>0.163513</td>\n",
              "    </tr>\n",
              "    <tr>\n",
              "      <th>19</th>\n",
              "      <td>got</td>\n",
              "      <td>3962</td>\n",
              "      <td>5220</td>\n",
              "      <td>16.0</td>\n",
              "      <td>0.003229</td>\n",
              "      <td>0.117796</td>\n",
              "      <td>0.148145</td>\n",
              "    </tr>\n",
              "    <tr>\n",
              "      <th>112</th>\n",
              "      <td>my</td>\n",
              "      <td>4184</td>\n",
              "      <td>5098</td>\n",
              "      <td>17.0</td>\n",
              "      <td>0.003154</td>\n",
              "      <td>0.120950</td>\n",
              "      <td>0.156446</td>\n",
              "    </tr>\n",
              "    <tr>\n",
              "      <th>252</th>\n",
              "      <td>don't</td>\n",
              "      <td>3922</td>\n",
              "      <td>4902</td>\n",
              "      <td>18.0</td>\n",
              "      <td>0.003032</td>\n",
              "      <td>0.123983</td>\n",
              "      <td>0.146650</td>\n",
              "    </tr>\n",
              "    <tr>\n",
              "      <th>421</th>\n",
              "      <td>-</td>\n",
              "      <td>2254</td>\n",
              "      <td>4796</td>\n",
              "      <td>19.0</td>\n",
              "      <td>0.002967</td>\n",
              "      <td>0.126950</td>\n",
              "      <td>0.084281</td>\n",
              "    </tr>\n",
              "    <tr>\n",
              "      <th>21</th>\n",
              "      <td>i'm</td>\n",
              "      <td>3385</td>\n",
              "      <td>4352</td>\n",
              "      <td>20.0</td>\n",
              "      <td>0.002692</td>\n",
              "      <td>0.129642</td>\n",
              "      <td>0.126570</td>\n",
              "    </tr>\n",
              "    <tr>\n",
              "      <th>49</th>\n",
              "      <td>came</td>\n",
              "      <td>3376</td>\n",
              "      <td>4257</td>\n",
              "      <td>21.0</td>\n",
              "      <td>0.002633</td>\n",
              "      <td>0.132275</td>\n",
              "      <td>0.126234</td>\n",
              "    </tr>\n",
              "    <tr>\n",
              "      <th>313</th>\n",
              "      <td>i've</td>\n",
              "      <td>3322</td>\n",
              "      <td>4252</td>\n",
              "      <td>22.0</td>\n",
              "      <td>0.002630</td>\n",
              "      <td>0.134906</td>\n",
              "      <td>0.124215</td>\n",
              "    </tr>\n",
              "    <tr>\n",
              "      <th>48</th>\n",
              "      <td>love</td>\n",
              "      <td>3333</td>\n",
              "      <td>4130</td>\n",
              "      <td>23.0</td>\n",
              "      <td>0.002555</td>\n",
              "      <td>0.137461</td>\n",
              "      <td>0.124626</td>\n",
              "    </tr>\n",
              "    <tr>\n",
              "      <th>765</th>\n",
              "      <td>didn't</td>\n",
              "      <td>3135</td>\n",
              "      <td>4127</td>\n",
              "      <td>24.0</td>\n",
              "      <td>0.002553</td>\n",
              "      <td>0.140014</td>\n",
              "      <td>0.117223</td>\n",
              "    </tr>\n",
              "    <tr>\n",
              "      <th>345</th>\n",
              "      <td>ordered</td>\n",
              "      <td>3062</td>\n",
              "      <td>4107</td>\n",
              "      <td>25.0</td>\n",
              "      <td>0.002541</td>\n",
              "      <td>0.142554</td>\n",
              "      <td>0.114493</td>\n",
              "    </tr>\n",
              "    <tr>\n",
              "      <th>96</th>\n",
              "      <td>best</td>\n",
              "      <td>3449</td>\n",
              "      <td>3938</td>\n",
              "      <td>26.0</td>\n",
              "      <td>0.002436</td>\n",
              "      <td>0.144990</td>\n",
              "      <td>0.128964</td>\n",
              "    </tr>\n",
              "    <tr>\n",
              "      <th>306</th>\n",
              "      <td>nice</td>\n",
              "      <td>3148</td>\n",
              "      <td>3782</td>\n",
              "      <td>27.0</td>\n",
              "      <td>0.002340</td>\n",
              "      <td>0.147330</td>\n",
              "      <td>0.117709</td>\n",
              "    </tr>\n",
              "    <tr>\n",
              "      <th>305</th>\n",
              "      <td>went</td>\n",
              "      <td>3164</td>\n",
              "      <td>3710</td>\n",
              "      <td>28.0</td>\n",
              "      <td>0.002295</td>\n",
              "      <td>0.149625</td>\n",
              "      <td>0.118307</td>\n",
              "    </tr>\n",
              "    <tr>\n",
              "      <th>187</th>\n",
              "      <td>definitely</td>\n",
              "      <td>3273</td>\n",
              "      <td>3680</td>\n",
              "      <td>29.0</td>\n",
              "      <td>0.002277</td>\n",
              "      <td>0.151902</td>\n",
              "      <td>0.122383</td>\n",
              "    </tr>\n",
              "    <tr>\n",
              "      <th>586</th>\n",
              "      <td>little</td>\n",
              "      <td>2985</td>\n",
              "      <td>3663</td>\n",
              "      <td>30.0</td>\n",
              "      <td>0.002266</td>\n",
              "      <td>0.154168</td>\n",
              "      <td>0.111614</td>\n",
              "    </tr>\n",
              "    <tr>\n",
              "      <th>70</th>\n",
              "      <td>come</td>\n",
              "      <td>3119</td>\n",
              "      <td>3635</td>\n",
              "      <td>31.0</td>\n",
              "      <td>0.002249</td>\n",
              "      <td>0.156416</td>\n",
              "      <td>0.116624</td>\n",
              "    </tr>\n",
              "    <tr>\n",
              "      <th>434</th>\n",
              "      <td>staff</td>\n",
              "      <td>3099</td>\n",
              "      <td>3466</td>\n",
              "      <td>32.0</td>\n",
              "      <td>0.002144</td>\n",
              "      <td>0.158561</td>\n",
              "      <td>0.115876</td>\n",
              "    </tr>\n",
              "    <tr>\n",
              "      <th>489</th>\n",
              "      <td>try</td>\n",
              "      <td>2918</td>\n",
              "      <td>3333</td>\n",
              "      <td>33.0</td>\n",
              "      <td>0.002062</td>\n",
              "      <td>0.160622</td>\n",
              "      <td>0.109109</td>\n",
              "    </tr>\n",
              "    <tr>\n",
              "      <th>9</th>\n",
              "      <td>order</td>\n",
              "      <td>2442</td>\n",
              "      <td>3183</td>\n",
              "      <td>34.0</td>\n",
              "      <td>0.001969</td>\n",
              "      <td>0.162591</td>\n",
              "      <td>0.091310</td>\n",
              "    </tr>\n",
              "    <tr>\n",
              "      <th>626</th>\n",
              "      <td>people</td>\n",
              "      <td>2557</td>\n",
              "      <td>3138</td>\n",
              "      <td>35.0</td>\n",
              "      <td>0.001941</td>\n",
              "      <td>0.164533</td>\n",
              "      <td>0.095610</td>\n",
              "    </tr>\n",
              "    <tr>\n",
              "      <th>697</th>\n",
              "      <td>going</td>\n",
              "      <td>2705</td>\n",
              "      <td>3126</td>\n",
              "      <td>36.0</td>\n",
              "      <td>0.001934</td>\n",
              "      <td>0.166467</td>\n",
              "      <td>0.101144</td>\n",
              "    </tr>\n",
              "    <tr>\n",
              "      <th>34</th>\n",
              "      <td>pretty</td>\n",
              "      <td>2415</td>\n",
              "      <td>2995</td>\n",
              "      <td>37.0</td>\n",
              "      <td>0.001853</td>\n",
              "      <td>0.168319</td>\n",
              "      <td>0.090301</td>\n",
              "    </tr>\n",
              "    <tr>\n",
              "      <th>497</th>\n",
              "      <td>if</td>\n",
              "      <td>2626</td>\n",
              "      <td>2993</td>\n",
              "      <td>38.0</td>\n",
              "      <td>0.001852</td>\n",
              "      <td>0.170171</td>\n",
              "      <td>0.098190</td>\n",
              "    </tr>\n",
              "    <tr>\n",
              "      <th>322</th>\n",
              "      <td>chicken</td>\n",
              "      <td>2018</td>\n",
              "      <td>2988</td>\n",
              "      <td>39.0</td>\n",
              "      <td>0.001848</td>\n",
              "      <td>0.172019</td>\n",
              "      <td>0.075456</td>\n",
              "    </tr>\n",
              "    <tr>\n",
              "      <th>92</th>\n",
              "      <td>know</td>\n",
              "      <td>2439</td>\n",
              "      <td>2886</td>\n",
              "      <td>40.0</td>\n",
              "      <td>0.001785</td>\n",
              "      <td>0.173805</td>\n",
              "      <td>0.091198</td>\n",
              "    </tr>\n",
              "    <tr>\n",
              "      <th>181</th>\n",
              "      <td>said</td>\n",
              "      <td>1929</td>\n",
              "      <td>2802</td>\n",
              "      <td>41.0</td>\n",
              "      <td>0.001733</td>\n",
              "      <td>0.175538</td>\n",
              "      <td>0.072128</td>\n",
              "    </tr>\n",
              "    <tr>\n",
              "      <th>166</th>\n",
              "      <td>new</td>\n",
              "      <td>2235</td>\n",
              "      <td>2768</td>\n",
              "      <td>42.0</td>\n",
              "      <td>0.001712</td>\n",
              "      <td>0.177250</td>\n",
              "      <td>0.083570</td>\n",
              "    </tr>\n",
              "    <tr>\n",
              "      <th>1434</th>\n",
              "      <td>restaurant</td>\n",
              "      <td>2166</td>\n",
              "      <td>2744</td>\n",
              "      <td>43.0</td>\n",
              "      <td>0.001698</td>\n",
              "      <td>0.178948</td>\n",
              "      <td>0.080990</td>\n",
              "    </tr>\n",
              "    <tr>\n",
              "      <th>214</th>\n",
              "      <td>it's</td>\n",
              "      <td>2292</td>\n",
              "      <td>2695</td>\n",
              "      <td>44.0</td>\n",
              "      <td>0.001667</td>\n",
              "      <td>0.180615</td>\n",
              "      <td>0.085701</td>\n",
              "    </tr>\n",
              "    <tr>\n",
              "      <th>429</th>\n",
              "      <td>recommend</td>\n",
              "      <td>2539</td>\n",
              "      <td>2634</td>\n",
              "      <td>45.0</td>\n",
              "      <td>0.001629</td>\n",
              "      <td>0.182245</td>\n",
              "      <td>0.094937</td>\n",
              "    </tr>\n",
              "    <tr>\n",
              "      <th>52</th>\n",
              "      <td>friendly</td>\n",
              "      <td>2502</td>\n",
              "      <td>2615</td>\n",
              "      <td>46.0</td>\n",
              "      <td>0.001618</td>\n",
              "      <td>0.183862</td>\n",
              "      <td>0.093554</td>\n",
              "    </tr>\n",
              "    <tr>\n",
              "      <th>581</th>\n",
              "      <td>&amp;</td>\n",
              "      <td>1403</td>\n",
              "      <td>2607</td>\n",
              "      <td>47.0</td>\n",
              "      <td>0.001613</td>\n",
              "      <td>0.185475</td>\n",
              "      <td>0.052460</td>\n",
              "    </tr>\n",
              "    <tr>\n",
              "      <th>165</th>\n",
              "      <td>told</td>\n",
              "      <td>1764</td>\n",
              "      <td>2584</td>\n",
              "      <td>48.0</td>\n",
              "      <td>0.001599</td>\n",
              "      <td>0.187073</td>\n",
              "      <td>0.065959</td>\n",
              "    </tr>\n",
              "    <tr>\n",
              "      <th>1036</th>\n",
              "      <td>want</td>\n",
              "      <td>2200</td>\n",
              "      <td>2544</td>\n",
              "      <td>49.0</td>\n",
              "      <td>0.001574</td>\n",
              "      <td>0.188647</td>\n",
              "      <td>0.082261</td>\n",
              "    </tr>\n",
              "    <tr>\n",
              "      <th>3</th>\n",
              "      <td>took</td>\n",
              "      <td>2153</td>\n",
              "      <td>2510</td>\n",
              "      <td>50.0</td>\n",
              "      <td>0.001553</td>\n",
              "      <td>0.190200</td>\n",
              "      <td>0.080504</td>\n",
              "    </tr>\n",
              "  </tbody>\n",
              "</table>\n",
              "</div>"
            ],
            "text/plain": [
              "            word  appears_in  count  ...  pct_total  cul_pct_total  appears_in_pct\n",
              "275                     9003  39118  ...   0.024199       0.024199        0.336636\n",
              "6            the       13413  25846  ...   0.015989       0.040188        0.501533\n",
              "64          \\n\\n        7902  22641  ...   0.014006       0.054194        0.295468\n",
              "5           food        7362  10242  ...   0.006336       0.060530        0.275277\n",
              "233        place        7539  10187  ...   0.006302       0.066832        0.281895\n",
              "8          great        7082   9377  ...   0.005801       0.072633        0.264807\n",
              "27            \\n        3325   9168  ...   0.005672       0.078305        0.124327\n",
              "60          like        6454   9144  ...   0.005657       0.083961        0.241325\n",
              "871           we        5468   9020  ...   0.005580       0.089541        0.204457\n",
              "213         good        6559   8682  ...   0.005371       0.094912        0.245251\n",
              "39       service        5912   6888  ...   0.004261       0.099173        0.221059\n",
              "175         time        5315   6769  ...   0.004187       0.103361        0.198736\n",
              "203         they        5104   6750  ...   0.004176       0.107537        0.190847\n",
              "296         this        4922   5715  ...   0.003535       0.111072        0.184041\n",
              "58            it        4373   5650  ...   0.003495       0.114567        0.163513\n",
              "19           got        3962   5220  ...   0.003229       0.117796        0.148145\n",
              "112           my        4184   5098  ...   0.003154       0.120950        0.156446\n",
              "252        don't        3922   4902  ...   0.003032       0.123983        0.146650\n",
              "421            -        2254   4796  ...   0.002967       0.126950        0.084281\n",
              "21           i'm        3385   4352  ...   0.002692       0.129642        0.126570\n",
              "49          came        3376   4257  ...   0.002633       0.132275        0.126234\n",
              "313         i've        3322   4252  ...   0.002630       0.134906        0.124215\n",
              "48          love        3333   4130  ...   0.002555       0.137461        0.124626\n",
              "765       didn't        3135   4127  ...   0.002553       0.140014        0.117223\n",
              "345      ordered        3062   4107  ...   0.002541       0.142554        0.114493\n",
              "96          best        3449   3938  ...   0.002436       0.144990        0.128964\n",
              "306         nice        3148   3782  ...   0.002340       0.147330        0.117709\n",
              "305         went        3164   3710  ...   0.002295       0.149625        0.118307\n",
              "187   definitely        3273   3680  ...   0.002277       0.151902        0.122383\n",
              "586       little        2985   3663  ...   0.002266       0.154168        0.111614\n",
              "70          come        3119   3635  ...   0.002249       0.156416        0.116624\n",
              "434        staff        3099   3466  ...   0.002144       0.158561        0.115876\n",
              "489          try        2918   3333  ...   0.002062       0.160622        0.109109\n",
              "9          order        2442   3183  ...   0.001969       0.162591        0.091310\n",
              "626       people        2557   3138  ...   0.001941       0.164533        0.095610\n",
              "697        going        2705   3126  ...   0.001934       0.166467        0.101144\n",
              "34        pretty        2415   2995  ...   0.001853       0.168319        0.090301\n",
              "497           if        2626   2993  ...   0.001852       0.170171        0.098190\n",
              "322      chicken        2018   2988  ...   0.001848       0.172019        0.075456\n",
              "92          know        2439   2886  ...   0.001785       0.173805        0.091198\n",
              "181         said        1929   2802  ...   0.001733       0.175538        0.072128\n",
              "166          new        2235   2768  ...   0.001712       0.177250        0.083570\n",
              "1434  restaurant        2166   2744  ...   0.001698       0.178948        0.080990\n",
              "214         it's        2292   2695  ...   0.001667       0.180615        0.085701\n",
              "429    recommend        2539   2634  ...   0.001629       0.182245        0.094937\n",
              "52      friendly        2502   2615  ...   0.001618       0.183862        0.093554\n",
              "581            &        1403   2607  ...   0.001613       0.185475        0.052460\n",
              "165         told        1764   2584  ...   0.001599       0.187073        0.065959\n",
              "1036        want        2200   2544  ...   0.001574       0.188647        0.082261\n",
              "3           took        2153   2510  ...   0.001553       0.190200        0.080504\n",
              "\n",
              "[50 rows x 7 columns]"
            ]
          },
          "metadata": {
            "tags": []
          },
          "execution_count": 35
        }
      ]
    },
    {
      "cell_type": "code",
      "metadata": {
        "id": "X4Xys-AX1pDt",
        "colab_type": "code",
        "colab": {
          "base_uri": "https://localhost:8080/",
          "height": 170
        },
        "outputId": "7f603837-5b21-435a-a924-10f0c5212f28"
      },
      "source": [
        "wc['appears_in_pct'].describe()"
      ],
      "execution_count": 36,
      "outputs": [
        {
          "output_type": "execute_result",
          "data": {
            "text/plain": [
              "count    110232.000000\n",
              "mean          0.000469\n",
              "std           0.004371\n",
              "min           0.000037\n",
              "25%           0.000037\n",
              "50%           0.000037\n",
              "75%           0.000112\n",
              "max           0.501533\n",
              "Name: appears_in_pct, dtype: float64"
            ]
          },
          "metadata": {
            "tags": []
          },
          "execution_count": 36
        }
      ]
    },
    {
      "cell_type": "code",
      "metadata": {
        "id": "ujaSo_F11ytI",
        "colab_type": "code",
        "colab": {
          "base_uri": "https://localhost:8080/",
          "height": 280
        },
        "outputId": "b9acb1db-2e44-42bc-eef8-419ec3188ca4"
      },
      "source": [
        "# Frequency of appears in documents\n",
        "sns.distplot(wc['appears_in_pct']);"
      ],
      "execution_count": 37,
      "outputs": [
        {
          "output_type": "display_data",
          "data": {
            "image/png": "[encoded data removed]",
            "text/plain": [
              "<Figure size 432x288 with 1 Axes>"
            ]
          },
          "metadata": {
            "tags": []
          }
        }
      ]
    },
    {
      "cell_type": "markdown",
      "metadata": {
        "id": "7t45z2Ly9m1a",
        "colab_type": "text"
      },
      "source": [
        "## Stemming "
      ]
    },
    {
      "cell_type": "code",
      "metadata": {
        "id": "KZTBNnBY9pdv",
        "colab_type": "code",
        "colab": {}
      },
      "source": [
        "ps = PorterStemmer()"
      ],
      "execution_count": 0,
      "outputs": []
    },
    {
      "cell_type": "markdown",
      "metadata": {
        "id": "Ml1qA59f-Rqt",
        "colab_type": "text"
      },
      "source": [
        "## Lemas"
      ]
    },
    {
      "cell_type": "code",
      "metadata": {
        "id": "n_jPpiAQ95W2",
        "colab_type": "code",
        "colab": {}
      },
      "source": [
        "# Wrap it all in a function\n",
        "def get_lemmas(text):\n",
        "\n",
        "    lemmas = []\n",
        "    \n",
        "    doc = nlp(text)\n",
        "    \n",
        "    # Something goes here :P\n",
        "    for token in doc: \n",
        "        if ((token.is_stop == False) and (token.is_punct == False)) and (token.pos_!= 'PRON'):\n",
        "            lemmas.append(token.lemma_)\n",
        "    \n",
        "    return lemmas"
      ],
      "execution_count": 0,
      "outputs": []
    },
    {
      "cell_type": "code",
      "metadata": {
        "id": "INXXAYC4AeX8",
        "colab_type": "code",
        "colab": {}
      },
      "source": [
        "df['lemmas'] = df['text'].apply(get_lemmas)"
      ],
      "execution_count": 0,
      "outputs": []
    },
    {
      "cell_type": "code",
      "metadata": {
        "id": "sdELAN2LAmU5",
        "colab_type": "code",
        "colab": {
          "base_uri": "https://localhost:8080/",
          "height": 119
        },
        "outputId": "a1facecf-985d-42c7-93ed-724f047c780d"
      },
      "source": [
        "df['lemmas'].head()"
      ],
      "execution_count": 43,
      "outputs": [
        {
          "output_type": "execute_result",
          "data": {
            "text/plain": [
              "609090     [food, great, deny, try, cut, salt, intake, or...\n",
              "6460377    [deliver, promise, promise, \\n , Excellent, Cu...\n",
              "562100     [come, friend, hang, like, fix, problem, waite...\n",
              "5339718    [call, Real, Fast, Auto, Glass, windshield, re...\n",
              "2958710    [terrible, shuttle, service, pretty, good, ser...\n",
              "Name: lemmas, dtype: object"
            ]
          },
          "metadata": {
            "tags": []
          },
          "execution_count": 43
        }
      ]
    },
    {
      "cell_type": "markdown",
      "metadata": {
        "id": "8SWQ09uHEAfZ",
        "colab_type": "text"
      },
      "source": [
        "top 20"
      ]
    },
    {
      "cell_type": "code",
      "metadata": {
        "id": "aDjsRzPCECsM",
        "colab_type": "code",
        "colab": {
          "base_uri": "https://localhost:8080/",
          "height": 248
        },
        "outputId": "cccbf811-b952-4583-bebe-f723eb1d7339"
      },
      "source": [
        "wc = count(df['lemmas'])\n",
        "wc_top20 = wc[wc['rank'] <= 20]\n",
        "\n",
        "squarify.plot(sizes=wc_top20['pct_total'], label=wc_top20['word'], alpha=.8 )\n",
        "plt.axis('off')\n",
        "plt.show()"
      ],
      "execution_count": 44,
      "outputs": [
        {
          "output_type": "display_data",
          "data": {
            "image/png": "[encoded data removed]",
            "text/plain": [
              "<Figure size 432x288 with 1 Axes>"
            ]
          },
          "metadata": {
            "tags": []
          }
        }
      ]
    }
  ]
}